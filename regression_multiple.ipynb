{
 "cells": [
  {
   "cell_type": "markdown",
   "metadata": {},
   "source": [
    "# Using Scikit-Learn Linear Regression ML Model"
   ]
  },
  {
   "cell_type": "code",
   "execution_count": 30,
   "metadata": {},
   "outputs": [
    {
     "name": "stdout",
     "output_type": "stream",
     "text": [
      "The scikit-learn version is 0.18.1.\n"
     ]
    }
   ],
   "source": [
    "# Import libraries necessary\n",
    "import numpy as np\n",
    "import pandas as pd\n",
    "import matplotlib as plt\n",
    "%matplotlib inline\n",
    "import sklearn\n",
    "print('The scikit-learn version is {}.'.format(sklearn.__version__))\n",
    "\n",
    "# Load the Data\n",
    "data = pd.read_csv('data/data.csv')\n",
    "target_fields = ['TGT0','TGT1','TGT2','TGT3']\n",
    "features, targets = data.drop(target_fields, axis=1), data[target_fields]\n"
   ]
  },
  {
   "cell_type": "markdown",
   "metadata": {},
   "source": [
    "## Checking Out the Dataset"
   ]
  },
  {
   "cell_type": "code",
   "execution_count": 31,
   "metadata": {
    "scrolled": false
   },
   "outputs": [
    {
     "data": {
      "text/html": [
       "<div>\n",
       "<table border=\"1\" class=\"dataframe\">\n",
       "  <thead>\n",
       "    <tr style=\"text-align: right;\">\n",
       "      <th></th>\n",
       "      <th>Value00</th>\n",
       "      <th>Value01</th>\n",
       "      <th>Value02</th>\n",
       "      <th>Value03</th>\n",
       "      <th>Value04</th>\n",
       "      <th>Value05</th>\n",
       "      <th>Value06</th>\n",
       "      <th>Value07</th>\n",
       "      <th>Value08</th>\n",
       "      <th>Value09</th>\n",
       "    </tr>\n",
       "  </thead>\n",
       "  <tbody>\n",
       "    <tr>\n",
       "      <th>count</th>\n",
       "      <td>1000.000000</td>\n",
       "      <td>1000.000000</td>\n",
       "      <td>1000.000000</td>\n",
       "      <td>1000.000000</td>\n",
       "      <td>1000.000000</td>\n",
       "      <td>1000.000000</td>\n",
       "      <td>1000.000000</td>\n",
       "      <td>1000.000000</td>\n",
       "      <td>1000.000000</td>\n",
       "      <td>1000.000000</td>\n",
       "    </tr>\n",
       "    <tr>\n",
       "      <th>mean</th>\n",
       "      <td>-0.053770</td>\n",
       "      <td>-0.047270</td>\n",
       "      <td>0.021190</td>\n",
       "      <td>-0.019120</td>\n",
       "      <td>-0.038300</td>\n",
       "      <td>-0.046830</td>\n",
       "      <td>-0.033790</td>\n",
       "      <td>-0.016430</td>\n",
       "      <td>0.058730</td>\n",
       "      <td>-0.009080</td>\n",
       "    </tr>\n",
       "    <tr>\n",
       "      <th>std</th>\n",
       "      <td>0.974953</td>\n",
       "      <td>0.990043</td>\n",
       "      <td>0.982625</td>\n",
       "      <td>1.016896</td>\n",
       "      <td>0.999852</td>\n",
       "      <td>1.008939</td>\n",
       "      <td>0.991402</td>\n",
       "      <td>1.005754</td>\n",
       "      <td>0.954923</td>\n",
       "      <td>0.946831</td>\n",
       "    </tr>\n",
       "    <tr>\n",
       "      <th>min</th>\n",
       "      <td>-2.760000</td>\n",
       "      <td>-2.840000</td>\n",
       "      <td>-3.020000</td>\n",
       "      <td>-2.810000</td>\n",
       "      <td>-3.740000</td>\n",
       "      <td>-3.070000</td>\n",
       "      <td>-2.840000</td>\n",
       "      <td>-3.120000</td>\n",
       "      <td>-3.390000</td>\n",
       "      <td>-2.990000</td>\n",
       "    </tr>\n",
       "    <tr>\n",
       "      <th>25%</th>\n",
       "      <td>-0.730000</td>\n",
       "      <td>-0.710000</td>\n",
       "      <td>-0.622500</td>\n",
       "      <td>-0.760000</td>\n",
       "      <td>-0.680000</td>\n",
       "      <td>-0.720000</td>\n",
       "      <td>-0.712500</td>\n",
       "      <td>-0.762500</td>\n",
       "      <td>-0.552500</td>\n",
       "      <td>-0.652500</td>\n",
       "    </tr>\n",
       "    <tr>\n",
       "      <th>50%</th>\n",
       "      <td>-0.060000</td>\n",
       "      <td>-0.080000</td>\n",
       "      <td>-0.005000</td>\n",
       "      <td>-0.020000</td>\n",
       "      <td>-0.030000</td>\n",
       "      <td>-0.030000</td>\n",
       "      <td>0.000000</td>\n",
       "      <td>-0.050000</td>\n",
       "      <td>0.050000</td>\n",
       "      <td>-0.010000</td>\n",
       "    </tr>\n",
       "    <tr>\n",
       "      <th>75%</th>\n",
       "      <td>0.600000</td>\n",
       "      <td>0.640000</td>\n",
       "      <td>0.690000</td>\n",
       "      <td>0.672500</td>\n",
       "      <td>0.630000</td>\n",
       "      <td>0.637500</td>\n",
       "      <td>0.620000</td>\n",
       "      <td>0.652500</td>\n",
       "      <td>0.670000</td>\n",
       "      <td>0.640000</td>\n",
       "    </tr>\n",
       "    <tr>\n",
       "      <th>max</th>\n",
       "      <td>2.930000</td>\n",
       "      <td>2.660000</td>\n",
       "      <td>2.870000</td>\n",
       "      <td>3.210000</td>\n",
       "      <td>3.310000</td>\n",
       "      <td>3.430000</td>\n",
       "      <td>3.170000</td>\n",
       "      <td>3.800000</td>\n",
       "      <td>2.980000</td>\n",
       "      <td>3.090000</td>\n",
       "    </tr>\n",
       "  </tbody>\n",
       "</table>\n",
       "</div>"
      ],
      "text/plain": [
       "           Value00      Value01      Value02      Value03      Value04  \\\n",
       "count  1000.000000  1000.000000  1000.000000  1000.000000  1000.000000   \n",
       "mean     -0.053770    -0.047270     0.021190    -0.019120    -0.038300   \n",
       "std       0.974953     0.990043     0.982625     1.016896     0.999852   \n",
       "min      -2.760000    -2.840000    -3.020000    -2.810000    -3.740000   \n",
       "25%      -0.730000    -0.710000    -0.622500    -0.760000    -0.680000   \n",
       "50%      -0.060000    -0.080000    -0.005000    -0.020000    -0.030000   \n",
       "75%       0.600000     0.640000     0.690000     0.672500     0.630000   \n",
       "max       2.930000     2.660000     2.870000     3.210000     3.310000   \n",
       "\n",
       "           Value05      Value06      Value07      Value08      Value09  \n",
       "count  1000.000000  1000.000000  1000.000000  1000.000000  1000.000000  \n",
       "mean     -0.046830    -0.033790    -0.016430     0.058730    -0.009080  \n",
       "std       1.008939     0.991402     1.005754     0.954923     0.946831  \n",
       "min      -3.070000    -2.840000    -3.120000    -3.390000    -2.990000  \n",
       "25%      -0.720000    -0.712500    -0.762500    -0.552500    -0.652500  \n",
       "50%      -0.030000     0.000000    -0.050000     0.050000    -0.010000  \n",
       "75%       0.637500     0.620000     0.652500     0.670000     0.640000  \n",
       "max       3.430000     3.170000     3.800000     2.980000     3.090000  "
      ]
     },
     "execution_count": 31,
     "metadata": {},
     "output_type": "execute_result"
    }
   ],
   "source": [
    "features.describe()"
   ]
  },
  {
   "cell_type": "code",
   "execution_count": 32,
   "metadata": {},
   "outputs": [
    {
     "data": {
      "text/html": [
       "<div>\n",
       "<table border=\"1\" class=\"dataframe\">\n",
       "  <thead>\n",
       "    <tr style=\"text-align: right;\">\n",
       "      <th></th>\n",
       "      <th>TGT0</th>\n",
       "      <th>TGT1</th>\n",
       "      <th>TGT2</th>\n",
       "      <th>TGT3</th>\n",
       "    </tr>\n",
       "  </thead>\n",
       "  <tbody>\n",
       "    <tr>\n",
       "      <th>count</th>\n",
       "      <td>1000.00000</td>\n",
       "      <td>1000.000000</td>\n",
       "      <td>1000.000000</td>\n",
       "      <td>1000.000000</td>\n",
       "    </tr>\n",
       "    <tr>\n",
       "      <th>mean</th>\n",
       "      <td>87.47173</td>\n",
       "      <td>91.664730</td>\n",
       "      <td>94.518420</td>\n",
       "      <td>90.352870</td>\n",
       "    </tr>\n",
       "    <tr>\n",
       "      <th>std</th>\n",
       "      <td>169.21764</td>\n",
       "      <td>143.648337</td>\n",
       "      <td>168.817263</td>\n",
       "      <td>196.360771</td>\n",
       "    </tr>\n",
       "    <tr>\n",
       "      <th>min</th>\n",
       "      <td>-355.86000</td>\n",
       "      <td>-368.270000</td>\n",
       "      <td>-436.150000</td>\n",
       "      <td>-564.110000</td>\n",
       "    </tr>\n",
       "    <tr>\n",
       "      <th>25%</th>\n",
       "      <td>-27.26750</td>\n",
       "      <td>-9.247500</td>\n",
       "      <td>-16.052500</td>\n",
       "      <td>-33.852500</td>\n",
       "    </tr>\n",
       "    <tr>\n",
       "      <th>50%</th>\n",
       "      <td>86.16500</td>\n",
       "      <td>92.915000</td>\n",
       "      <td>86.595000</td>\n",
       "      <td>91.370000</td>\n",
       "    </tr>\n",
       "    <tr>\n",
       "      <th>75%</th>\n",
       "      <td>198.67000</td>\n",
       "      <td>189.027500</td>\n",
       "      <td>213.725000</td>\n",
       "      <td>222.695000</td>\n",
       "    </tr>\n",
       "    <tr>\n",
       "      <th>max</th>\n",
       "      <td>723.19000</td>\n",
       "      <td>585.310000</td>\n",
       "      <td>650.520000</td>\n",
       "      <td>705.460000</td>\n",
       "    </tr>\n",
       "  </tbody>\n",
       "</table>\n",
       "</div>"
      ],
      "text/plain": [
       "             TGT0         TGT1         TGT2         TGT3\n",
       "count  1000.00000  1000.000000  1000.000000  1000.000000\n",
       "mean     87.47173    91.664730    94.518420    90.352870\n",
       "std     169.21764   143.648337   168.817263   196.360771\n",
       "min    -355.86000  -368.270000  -436.150000  -564.110000\n",
       "25%     -27.26750    -9.247500   -16.052500   -33.852500\n",
       "50%      86.16500    92.915000    86.595000    91.370000\n",
       "75%     198.67000   189.027500   213.725000   222.695000\n",
       "max     723.19000   585.310000   650.520000   705.460000"
      ]
     },
     "execution_count": 32,
     "metadata": {},
     "output_type": "execute_result"
    }
   ],
   "source": [
    "targets.describe()"
   ]
  },
  {
   "cell_type": "markdown",
   "metadata": {},
   "source": [
    "## Splitting the Dataset into Training and Testing Sets"
   ]
  },
  {
   "cell_type": "code",
   "execution_count": 33,
   "metadata": {},
   "outputs": [
    {
     "data": {
      "text/plain": [
       "count    1000.00000\n",
       "mean       87.47173\n",
       "std       169.21764\n",
       "min      -355.86000\n",
       "25%       -27.26750\n",
       "50%        86.16500\n",
       "75%       198.67000\n",
       "max       723.19000\n",
       "Name: TGT0, dtype: float64"
      ]
     },
     "execution_count": 33,
     "metadata": {},
     "output_type": "execute_result"
    }
   ],
   "source": [
    "target1 = targets['TGT0']\n",
    "\n",
    "target1.describe()"
   ]
  },
  {
   "cell_type": "markdown",
   "metadata": {},
   "source": [
    "## Building the Machine Learning Models\n",
    "\n",
    "### Linear Regression"
   ]
  },
  {
   "cell_type": "code",
   "execution_count": 34,
   "metadata": {
    "scrolled": false
   },
   "outputs": [
    {
     "name": "stdout",
     "output_type": "stream",
     "text": [
      "Linear Regression R-Squared Score on Training Data: 0.999437860394\n",
      "Linear Regression R-Squared Score on Testing Data: 0.999436370976\n",
      "Zero Intercept / Bias Value: 100.137382183\n"
     ]
    },
    {
     "data": {
      "text/html": [
       "<div>\n",
       "<table border=\"1\" class=\"dataframe\">\n",
       "  <thead>\n",
       "    <tr style=\"text-align: right;\">\n",
       "      <th></th>\n",
       "      <th>Feature Name</th>\n",
       "      <th>Linear Coefficient</th>\n",
       "    </tr>\n",
       "  </thead>\n",
       "  <tbody>\n",
       "    <tr>\n",
       "      <th>0</th>\n",
       "      <td>Value00</td>\n",
       "      <td>20.967113</td>\n",
       "    </tr>\n",
       "    <tr>\n",
       "      <th>1</th>\n",
       "      <td>Value01</td>\n",
       "      <td>88.070912</td>\n",
       "    </tr>\n",
       "    <tr>\n",
       "      <th>2</th>\n",
       "      <td>Value02</td>\n",
       "      <td>13.168387</td>\n",
       "    </tr>\n",
       "    <tr>\n",
       "      <th>3</th>\n",
       "      <td>Value03</td>\n",
       "      <td>9.751452</td>\n",
       "    </tr>\n",
       "    <tr>\n",
       "      <th>4</th>\n",
       "      <td>Value04</td>\n",
       "      <td>8.237347</td>\n",
       "    </tr>\n",
       "    <tr>\n",
       "      <th>5</th>\n",
       "      <td>Value05</td>\n",
       "      <td>75.214819</td>\n",
       "    </tr>\n",
       "    <tr>\n",
       "      <th>6</th>\n",
       "      <td>Value06</td>\n",
       "      <td>77.775506</td>\n",
       "    </tr>\n",
       "    <tr>\n",
       "      <th>7</th>\n",
       "      <td>Value07</td>\n",
       "      <td>65.366775</td>\n",
       "    </tr>\n",
       "    <tr>\n",
       "      <th>8</th>\n",
       "      <td>Value08</td>\n",
       "      <td>13.204313</td>\n",
       "    </tr>\n",
       "    <tr>\n",
       "      <th>9</th>\n",
       "      <td>Value09</td>\n",
       "      <td>74.428469</td>\n",
       "    </tr>\n",
       "  </tbody>\n",
       "</table>\n",
       "</div>"
      ],
      "text/plain": [
       "  Feature Name  Linear Coefficient\n",
       "0      Value00           20.967113\n",
       "1      Value01           88.070912\n",
       "2      Value02           13.168387\n",
       "3      Value03            9.751452\n",
       "4      Value04            8.237347\n",
       "5      Value05           75.214819\n",
       "6      Value06           77.775506\n",
       "7      Value07           65.366775\n",
       "8      Value08           13.204313\n",
       "9      Value09           74.428469"
      ]
     },
     "execution_count": 34,
     "metadata": {},
     "output_type": "execute_result"
    }
   ],
   "source": [
    "from sklearn.linear_model import LinearRegression\n",
    "from sklearn.model_selection import train_test_split\n",
    "\n",
    "TGT0 = targets['TGT0']\n",
    "features_train, features_test, targets_train, targets_test = train_test_split( \\\n",
    "    features, TGT0, test_size=0.20, random_state=42)\n",
    "\n",
    "LinReg0 = LinearRegression()\n",
    "LinReg0.fit(features_train, targets_train)\n",
    "\n",
    "print(\"Linear Regression R-Squared Score on Training Data:\", LinReg0.score(features_train,targets_train))\n",
    "print(\"Linear Regression R-Squared Score on Testing Data:\", LinReg0.score(features_test,targets_test))\n",
    "print(\"Zero Intercept / Bias Value:\", LinReg0.intercept_)\n",
    "pd.DataFrame(list(zip(features.columns, LinReg0.coef_)), \\\n",
    "             columns = ['Feature Name', 'Linear Coefficient'])\n"
   ]
  },
  {
   "cell_type": "code",
   "execution_count": 35,
   "metadata": {},
   "outputs": [
    {
     "name": "stdout",
     "output_type": "stream",
     "text": [
      "Linear Regression R-Squared Score on Training Data: 0.999155211304\n",
      "Linear Regression R-Squared Score on Testing Data: 0.999371303037\n",
      "Zero Intercept / Bias Value: 99.9829521893\n"
     ]
    },
    {
     "data": {
      "text/html": [
       "<div>\n",
       "<table border=\"1\" class=\"dataframe\">\n",
       "  <thead>\n",
       "    <tr style=\"text-align: right;\">\n",
       "      <th></th>\n",
       "      <th>Feature Name</th>\n",
       "      <th>Linear Coefficient</th>\n",
       "    </tr>\n",
       "  </thead>\n",
       "  <tbody>\n",
       "    <tr>\n",
       "      <th>0</th>\n",
       "      <td>Value00</td>\n",
       "      <td>41.574969</td>\n",
       "    </tr>\n",
       "    <tr>\n",
       "      <th>1</th>\n",
       "      <td>Value01</td>\n",
       "      <td>45.498027</td>\n",
       "    </tr>\n",
       "    <tr>\n",
       "      <th>2</th>\n",
       "      <td>Value02</td>\n",
       "      <td>43.930015</td>\n",
       "    </tr>\n",
       "    <tr>\n",
       "      <th>3</th>\n",
       "      <td>Value03</td>\n",
       "      <td>40.087647</td>\n",
       "    </tr>\n",
       "    <tr>\n",
       "      <th>4</th>\n",
       "      <td>Value04</td>\n",
       "      <td>33.596771</td>\n",
       "    </tr>\n",
       "    <tr>\n",
       "      <th>5</th>\n",
       "      <td>Value05</td>\n",
       "      <td>36.443975</td>\n",
       "    </tr>\n",
       "    <tr>\n",
       "      <th>6</th>\n",
       "      <td>Value06</td>\n",
       "      <td>50.185234</td>\n",
       "    </tr>\n",
       "    <tr>\n",
       "      <th>7</th>\n",
       "      <td>Value07</td>\n",
       "      <td>45.983062</td>\n",
       "    </tr>\n",
       "    <tr>\n",
       "      <th>8</th>\n",
       "      <td>Value08</td>\n",
       "      <td>35.140261</td>\n",
       "    </tr>\n",
       "    <tr>\n",
       "      <th>9</th>\n",
       "      <td>Value09</td>\n",
       "      <td>82.599513</td>\n",
       "    </tr>\n",
       "  </tbody>\n",
       "</table>\n",
       "</div>"
      ],
      "text/plain": [
       "  Feature Name  Linear Coefficient\n",
       "0      Value00           41.574969\n",
       "1      Value01           45.498027\n",
       "2      Value02           43.930015\n",
       "3      Value03           40.087647\n",
       "4      Value04           33.596771\n",
       "5      Value05           36.443975\n",
       "6      Value06           50.185234\n",
       "7      Value07           45.983062\n",
       "8      Value08           35.140261\n",
       "9      Value09           82.599513"
      ]
     },
     "execution_count": 35,
     "metadata": {},
     "output_type": "execute_result"
    }
   ],
   "source": [
    "from sklearn.linear_model import LinearRegression\n",
    "from sklearn.model_selection import train_test_split\n",
    "\n",
    "TGT1 = targets['TGT1']\n",
    "features_train, features_test, targets_train, targets_test = train_test_split( \\\n",
    "    features, TGT1, test_size=0.20, random_state=42)\n",
    "\n",
    "LinReg1 = LinearRegression()\n",
    "LinReg1.fit(features_train, targets_train)\n",
    "\n",
    "print(\"Linear Regression R-Squared Score on Training Data:\", LinReg1.score(features_train,targets_train))\n",
    "print(\"Linear Regression R-Squared Score on Testing Data:\", LinReg1.score(features_test,targets_test))\n",
    "print(\"Zero Intercept / Bias Value:\", LinReg1.intercept_)\n",
    "pd.DataFrame(list(zip(features.columns, LinReg1.coef_)), \\\n",
    "             columns = ['Feature Name', 'Linear Coefficient'])"
   ]
  },
  {
   "cell_type": "code",
   "execution_count": 36,
   "metadata": {},
   "outputs": [
    {
     "name": "stdout",
     "output_type": "stream",
     "text": [
      "Linear Regression R-Squared Score on Training Data: 0.99942808137\n",
      "Linear Regression R-Squared Score on Testing Data: 0.999412980118\n",
      "Zero Intercept / Bias Value: 100.107037936\n"
     ]
    },
    {
     "data": {
      "text/html": [
       "<div>\n",
       "<table border=\"1\" class=\"dataframe\">\n",
       "  <thead>\n",
       "    <tr style=\"text-align: right;\">\n",
       "      <th></th>\n",
       "      <th>Feature Name</th>\n",
       "      <th>Linear Coefficient</th>\n",
       "    </tr>\n",
       "  </thead>\n",
       "  <tbody>\n",
       "    <tr>\n",
       "      <th>0</th>\n",
       "      <td>Value00</td>\n",
       "      <td>50.343121</td>\n",
       "    </tr>\n",
       "    <tr>\n",
       "      <th>1</th>\n",
       "      <td>Value01</td>\n",
       "      <td>61.943168</td>\n",
       "    </tr>\n",
       "    <tr>\n",
       "      <th>2</th>\n",
       "      <td>Value02</td>\n",
       "      <td>69.738638</td>\n",
       "    </tr>\n",
       "    <tr>\n",
       "      <th>3</th>\n",
       "      <td>Value03</td>\n",
       "      <td>52.274483</td>\n",
       "    </tr>\n",
       "    <tr>\n",
       "      <th>4</th>\n",
       "      <td>Value04</td>\n",
       "      <td>5.051112</td>\n",
       "    </tr>\n",
       "    <tr>\n",
       "      <th>5</th>\n",
       "      <td>Value05</td>\n",
       "      <td>5.540418</td>\n",
       "    </tr>\n",
       "    <tr>\n",
       "      <th>6</th>\n",
       "      <td>Value06</td>\n",
       "      <td>31.063415</td>\n",
       "    </tr>\n",
       "    <tr>\n",
       "      <th>7</th>\n",
       "      <td>Value07</td>\n",
       "      <td>98.193605</td>\n",
       "    </tr>\n",
       "    <tr>\n",
       "      <th>8</th>\n",
       "      <td>Value08</td>\n",
       "      <td>53.489810</td>\n",
       "    </tr>\n",
       "    <tr>\n",
       "      <th>9</th>\n",
       "      <td>Value09</td>\n",
       "      <td>49.257933</td>\n",
       "    </tr>\n",
       "  </tbody>\n",
       "</table>\n",
       "</div>"
      ],
      "text/plain": [
       "  Feature Name  Linear Coefficient\n",
       "0      Value00           50.343121\n",
       "1      Value01           61.943168\n",
       "2      Value02           69.738638\n",
       "3      Value03           52.274483\n",
       "4      Value04            5.051112\n",
       "5      Value05            5.540418\n",
       "6      Value06           31.063415\n",
       "7      Value07           98.193605\n",
       "8      Value08           53.489810\n",
       "9      Value09           49.257933"
      ]
     },
     "execution_count": 36,
     "metadata": {},
     "output_type": "execute_result"
    }
   ],
   "source": [
    "from sklearn.linear_model import LinearRegression\n",
    "from sklearn.model_selection import train_test_split\n",
    "\n",
    "TGT2 = targets['TGT2']\n",
    "features_train, features_test, targets_train, targets_test = train_test_split( \\\n",
    "    features, TGT2, test_size=0.20, random_state=42)\n",
    "\n",
    "LinReg2 = LinearRegression()\n",
    "LinReg2.fit(features_train, targets_train)\n",
    "\n",
    "print(\"Linear Regression R-Squared Score on Training Data:\", LinReg2.score(features_train,targets_train))\n",
    "print(\"Linear Regression R-Squared Score on Testing Data:\", LinReg2.score(features_test,targets_test))\n",
    "print(\"Zero Intercept / Bias Value:\", LinReg2.intercept_)\n",
    "pd.DataFrame(list(zip(features.columns, LinReg2.coef_)), \\\n",
    "             columns = ['Feature Name', 'Linear Coefficient'])"
   ]
  },
  {
   "cell_type": "code",
   "execution_count": 37,
   "metadata": {},
   "outputs": [
    {
     "name": "stdout",
     "output_type": "stream",
     "text": [
      "Linear Regression R-Squared Score on Training Data: 0.999616736986\n",
      "Linear Regression R-Squared Score on Testing Data: 0.999562341179\n",
      "Zero Intercept / Bias Value: 99.6803819623\n"
     ]
    },
    {
     "data": {
      "text/html": [
       "<div>\n",
       "<table border=\"1\" class=\"dataframe\">\n",
       "  <thead>\n",
       "    <tr style=\"text-align: right;\">\n",
       "      <th></th>\n",
       "      <th>Feature Name</th>\n",
       "      <th>Linear Coefficient</th>\n",
       "    </tr>\n",
       "  </thead>\n",
       "  <tbody>\n",
       "    <tr>\n",
       "      <th>0</th>\n",
       "      <td>Value00</td>\n",
       "      <td>81.989868</td>\n",
       "    </tr>\n",
       "    <tr>\n",
       "      <th>1</th>\n",
       "      <td>Value01</td>\n",
       "      <td>69.452245</td>\n",
       "    </tr>\n",
       "    <tr>\n",
       "      <th>2</th>\n",
       "      <td>Value02</td>\n",
       "      <td>63.466723</td>\n",
       "    </tr>\n",
       "    <tr>\n",
       "      <th>3</th>\n",
       "      <td>Value03</td>\n",
       "      <td>73.189044</td>\n",
       "    </tr>\n",
       "    <tr>\n",
       "      <th>4</th>\n",
       "      <td>Value04</td>\n",
       "      <td>14.863370</td>\n",
       "    </tr>\n",
       "    <tr>\n",
       "      <th>5</th>\n",
       "      <td>Value05</td>\n",
       "      <td>81.641650</td>\n",
       "    </tr>\n",
       "    <tr>\n",
       "      <th>6</th>\n",
       "      <td>Value06</td>\n",
       "      <td>13.182253</td>\n",
       "    </tr>\n",
       "    <tr>\n",
       "      <th>7</th>\n",
       "      <td>Value07</td>\n",
       "      <td>67.741839</td>\n",
       "    </tr>\n",
       "    <tr>\n",
       "      <th>8</th>\n",
       "      <td>Value08</td>\n",
       "      <td>79.037354</td>\n",
       "    </tr>\n",
       "    <tr>\n",
       "      <th>9</th>\n",
       "      <td>Value09</td>\n",
       "      <td>43.281823</td>\n",
       "    </tr>\n",
       "  </tbody>\n",
       "</table>\n",
       "</div>"
      ],
      "text/plain": [
       "  Feature Name  Linear Coefficient\n",
       "0      Value00           81.989868\n",
       "1      Value01           69.452245\n",
       "2      Value02           63.466723\n",
       "3      Value03           73.189044\n",
       "4      Value04           14.863370\n",
       "5      Value05           81.641650\n",
       "6      Value06           13.182253\n",
       "7      Value07           67.741839\n",
       "8      Value08           79.037354\n",
       "9      Value09           43.281823"
      ]
     },
     "execution_count": 37,
     "metadata": {},
     "output_type": "execute_result"
    }
   ],
   "source": [
    "from sklearn.linear_model import LinearRegression\n",
    "from sklearn.model_selection import train_test_split\n",
    "\n",
    "TGT3 = targets['TGT3']\n",
    "features_train, features_test, targets_train, targets_test = train_test_split( \\\n",
    "    features, TGT3, test_size=0.20, random_state=42)\n",
    "\n",
    "LinReg3 = LinearRegression()\n",
    "LinReg3.fit(features_train, targets_train)\n",
    "\n",
    "print(\"Linear Regression R-Squared Score on Training Data:\", LinReg3.score(features_train,targets_train))\n",
    "print(\"Linear Regression R-Squared Score on Testing Data:\", LinReg3.score(features_test,targets_test))\n",
    "print(\"Zero Intercept / Bias Value:\", LinReg3.intercept_)\n",
    "pd.DataFrame(list(zip(features.columns, LinReg3.coef_)), \\\n",
    "             columns = ['Feature Name', 'Linear Coefficient'])"
   ]
  },
  {
   "cell_type": "code",
   "execution_count": 38,
   "metadata": {},
   "outputs": [
    {
     "data": {
      "text/plain": [
       "Index(['Value00', 'Value01', 'Value02', 'Value03', 'Value04', 'Value05',\n",
       "       'Value06', 'Value07', 'Value08', 'Value09'],\n",
       "      dtype='object')"
      ]
     },
     "execution_count": 38,
     "metadata": {},
     "output_type": "execute_result"
    }
   ],
   "source": [
    "features.columns"
   ]
  },
  {
   "cell_type": "code",
   "execution_count": 39,
   "metadata": {},
   "outputs": [
    {
     "data": {
      "text/html": [
       "<div>\n",
       "<table border=\"1\" class=\"dataframe\">\n",
       "  <thead>\n",
       "    <tr style=\"text-align: right;\">\n",
       "      <th></th>\n",
       "      <th>Feature Name</th>\n",
       "      <th>TGT0 Linear Weight</th>\n",
       "      <th>TGT1 Linear Weight</th>\n",
       "      <th>TGT2 Linear Weight</th>\n",
       "      <th>TGT3 Linear Weight</th>\n",
       "    </tr>\n",
       "  </thead>\n",
       "  <tbody>\n",
       "    <tr>\n",
       "      <th>0</th>\n",
       "      <td>Value00</td>\n",
       "      <td>20.967113</td>\n",
       "      <td>41.574969</td>\n",
       "      <td>50.343121</td>\n",
       "      <td>81.989868</td>\n",
       "    </tr>\n",
       "    <tr>\n",
       "      <th>1</th>\n",
       "      <td>Value01</td>\n",
       "      <td>88.070912</td>\n",
       "      <td>45.498027</td>\n",
       "      <td>61.943168</td>\n",
       "      <td>69.452245</td>\n",
       "    </tr>\n",
       "    <tr>\n",
       "      <th>2</th>\n",
       "      <td>Value02</td>\n",
       "      <td>13.168387</td>\n",
       "      <td>43.930015</td>\n",
       "      <td>69.738638</td>\n",
       "      <td>63.466723</td>\n",
       "    </tr>\n",
       "    <tr>\n",
       "      <th>3</th>\n",
       "      <td>Value03</td>\n",
       "      <td>9.751452</td>\n",
       "      <td>40.087647</td>\n",
       "      <td>52.274483</td>\n",
       "      <td>73.189044</td>\n",
       "    </tr>\n",
       "    <tr>\n",
       "      <th>4</th>\n",
       "      <td>Value04</td>\n",
       "      <td>8.237347</td>\n",
       "      <td>33.596771</td>\n",
       "      <td>5.051112</td>\n",
       "      <td>14.863370</td>\n",
       "    </tr>\n",
       "    <tr>\n",
       "      <th>5</th>\n",
       "      <td>Value05</td>\n",
       "      <td>75.214819</td>\n",
       "      <td>36.443975</td>\n",
       "      <td>5.540418</td>\n",
       "      <td>81.641650</td>\n",
       "    </tr>\n",
       "    <tr>\n",
       "      <th>6</th>\n",
       "      <td>Value06</td>\n",
       "      <td>77.775506</td>\n",
       "      <td>50.185234</td>\n",
       "      <td>31.063415</td>\n",
       "      <td>13.182253</td>\n",
       "    </tr>\n",
       "    <tr>\n",
       "      <th>7</th>\n",
       "      <td>Value07</td>\n",
       "      <td>65.366775</td>\n",
       "      <td>45.983062</td>\n",
       "      <td>98.193605</td>\n",
       "      <td>67.741839</td>\n",
       "    </tr>\n",
       "    <tr>\n",
       "      <th>8</th>\n",
       "      <td>Value08</td>\n",
       "      <td>13.204313</td>\n",
       "      <td>35.140261</td>\n",
       "      <td>53.489810</td>\n",
       "      <td>79.037354</td>\n",
       "    </tr>\n",
       "    <tr>\n",
       "      <th>9</th>\n",
       "      <td>Value09</td>\n",
       "      <td>74.428469</td>\n",
       "      <td>82.599513</td>\n",
       "      <td>49.257933</td>\n",
       "      <td>43.281823</td>\n",
       "    </tr>\n",
       "  </tbody>\n",
       "</table>\n",
       "</div>"
      ],
      "text/plain": [
       "  Feature Name  TGT0 Linear Weight  TGT1 Linear Weight  TGT2 Linear Weight  \\\n",
       "0      Value00           20.967113           41.574969           50.343121   \n",
       "1      Value01           88.070912           45.498027           61.943168   \n",
       "2      Value02           13.168387           43.930015           69.738638   \n",
       "3      Value03            9.751452           40.087647           52.274483   \n",
       "4      Value04            8.237347           33.596771            5.051112   \n",
       "5      Value05           75.214819           36.443975            5.540418   \n",
       "6      Value06           77.775506           50.185234           31.063415   \n",
       "7      Value07           65.366775           45.983062           98.193605   \n",
       "8      Value08           13.204313           35.140261           53.489810   \n",
       "9      Value09           74.428469           82.599513           49.257933   \n",
       "\n",
       "   TGT3 Linear Weight  \n",
       "0           81.989868  \n",
       "1           69.452245  \n",
       "2           63.466723  \n",
       "3           73.189044  \n",
       "4           14.863370  \n",
       "5           81.641650  \n",
       "6           13.182253  \n",
       "7           67.741839  \n",
       "8           79.037354  \n",
       "9           43.281823  "
      ]
     },
     "execution_count": 39,
     "metadata": {},
     "output_type": "execute_result"
    }
   ],
   "source": [
    "LR_coef = pd.DataFrame(list(zip(features.columns, LinReg0.coef_, LinReg1.coef_, \\\n",
    "                                LinReg2.coef_, LinReg3.coef_)), \\\n",
    "          columns = ['Feature Name', 'TGT0 Linear Weight', 'TGT1 Linear Weight', \\\n",
    "                     'TGT2 Linear Weight', 'TGT3 Linear Weight'])\n",
    " \n",
    "LR_coef"
   ]
  },
  {
   "cell_type": "code",
   "execution_count": 40,
   "metadata": {
    "scrolled": true
   },
   "outputs": [
    {
     "data": {
      "text/html": [
       "<div>\n",
       "<table border=\"1\" class=\"dataframe\">\n",
       "  <thead>\n",
       "    <tr style=\"text-align: right;\">\n",
       "      <th></th>\n",
       "      <th>Target Name</th>\n",
       "      <th>Zero Intercept / Bias Value</th>\n",
       "    </tr>\n",
       "  </thead>\n",
       "  <tbody>\n",
       "    <tr>\n",
       "      <th>0</th>\n",
       "      <td>TGT0</td>\n",
       "      <td>100.137382</td>\n",
       "    </tr>\n",
       "    <tr>\n",
       "      <th>1</th>\n",
       "      <td>TGT1</td>\n",
       "      <td>99.982952</td>\n",
       "    </tr>\n",
       "    <tr>\n",
       "      <th>2</th>\n",
       "      <td>TGT2</td>\n",
       "      <td>100.107038</td>\n",
       "    </tr>\n",
       "    <tr>\n",
       "      <th>3</th>\n",
       "      <td>TGT3</td>\n",
       "      <td>99.680382</td>\n",
       "    </tr>\n",
       "  </tbody>\n",
       "</table>\n",
       "</div>"
      ],
      "text/plain": [
       "  Target Name  Zero Intercept / Bias Value\n",
       "0        TGT0                   100.137382\n",
       "1        TGT1                    99.982952\n",
       "2        TGT2                   100.107038\n",
       "3        TGT3                    99.680382"
      ]
     },
     "execution_count": 40,
     "metadata": {},
     "output_type": "execute_result"
    }
   ],
   "source": [
    "intercepts = [LinReg0.intercept_, LinReg1.intercept_, LinReg2.intercept_, LinReg3.intercept_]\n",
    "LR_bias = pd.DataFrame(list(zip(targets.columns, intercepts)), \\\n",
    "                       columns = ['Target Name', 'Zero Intercept / Bias Value'])\n",
    "\n",
    "LR_bias"
   ]
  },
  {
   "cell_type": "code",
   "execution_count": null,
   "metadata": {
    "collapsed": true
   },
   "outputs": [],
   "source": []
  },
  {
   "cell_type": "markdown",
   "metadata": {
    "collapsed": true
   },
   "source": [
    "# Using Deep Learning Model"
   ]
  },
  {
   "cell_type": "code",
   "execution_count": 8,
   "metadata": {},
   "outputs": [
    {
     "name": "stdout",
     "output_type": "stream",
     "text": [
      "Using Google TensorFlow version 1.0.0\n"
     ]
    },
    {
     "name": "stderr",
     "output_type": "stream",
     "text": [
      "/home/andridsasmita/anaconda3/envs/tf3/lib/python3.5/site-packages/numpy/core/fromnumeric.py:57: FutureWarning: reshape is deprecated and will raise in a subsequent release. Please use .values.reshape(...) instead\n",
      "  return getattr(obj, method)(*args, **kwds)\n"
     ]
    }
   ],
   "source": [
    "import tensorflow as tf\n",
    "print(\"Using Google TensorFlow version\", tf.__version__)\n",
    "\n",
    "n_training_samples = features.shape[0] # 100\n",
    "n_dim = features.shape[1] # 10\n",
    "# concatenate then reshape\n",
    "f = np.reshape(np.c_[np.ones(n_training_samples),features],[n_training_samples,n_dim + 1])\n",
    "l = np.reshape(output,[n_training_samples,1])\n",
    "n_dim = f.shape[1] # 11\n",
    "\n",
    "from sklearn.model_selection import train_test_split\n",
    "train_x, test_x, train_y, test_y = train_test_split( \\\n",
    "    f, l, test_size=0.20, random_state=42)\n"
   ]
  },
  {
   "cell_type": "markdown",
   "metadata": {},
   "source": [
    "### Setting Up Hyperparameters and Variables"
   ]
  },
  {
   "cell_type": "code",
   "execution_count": 9,
   "metadata": {
    "collapsed": true
   },
   "outputs": [],
   "source": [
    "# Neural Network Hyperparameters\n",
    "learning_rate = 0.0005\n",
    "training_epochs = 10000\n",
    "\n",
    "\n",
    "with tf.name_scope('Inputs'):\n",
    "    X = tf.placeholder(tf.float32,[None,n_dim], name='features')\n",
    "with tf.name_scope('Targets'):\n",
    "    Y = tf.placeholder(tf.float32,[None,1], name='output')\n",
    "with tf.name_scope('Weights'):\n",
    "    W = tf.Variable(tf.ones([n_dim,1]), name='weights')\n",
    "    tf.summary.histogram('Weights', W)\n",
    "with tf.name_scope('Predictions'):\n",
    "    y_ = tf.matmul(X, W)\n",
    "    tf.summary.histogram('Predictions', y_)\n",
    "with tf.name_scope('Cost'):\n",
    "    cost_history = np.empty(shape=[1],dtype=float)\n",
    "    cost = tf.reduce_mean(tf.square(y_ - Y)) # Mean Squared Error (MSE)\n",
    "    tf.summary.scalar('Cost', cost)\n",
    "with tf.name_scope('Train'):\n",
    "    training_step = tf.train.GradientDescentOptimizer(learning_rate).minimize(cost)\n"
   ]
  },
  {
   "cell_type": "markdown",
   "metadata": {},
   "source": [
    "### TensorFlow Training Session"
   ]
  },
  {
   "cell_type": "code",
   "execution_count": 10,
   "metadata": {
    "collapsed": true
   },
   "outputs": [],
   "source": [
    "# TensorFlow Training Session\n",
    "sess = tf.Session()\n",
    "sess.run(tf.global_variables_initializer())\n",
    "# TensorBoard Visualization\n",
    "train_writer = tf.summary.FileWriter('./logs/1/train', sess.graph)\n",
    "test_writer = tf.summary.FileWriter('./logs/1/test')\n",
    "    \n",
    "for epoch in range(training_epochs):\n",
    "    sess.run(training_step,feed_dict={X:train_x,Y:train_y})\n",
    "    cost_history = np.append(cost_history,sess.run(cost,feed_dict={X: train_x,Y: train_y}))"
   ]
  },
  {
   "cell_type": "markdown",
   "metadata": {},
   "source": [
    "### Analyzing Training Results"
   ]
  },
  {
   "cell_type": "code",
   "execution_count": 11,
   "metadata": {},
   "outputs": [
    {
     "data": {
      "image/png": "[encoded data removed]",
      "text/plain": [
       "<matplotlib.figure.Figure at 0x7f5b18163748>"
      ]
     },
     "metadata": {},
     "output_type": "display_data"
    }
   ],
   "source": [
    "# Plot Cost Function over Training Epochs\n",
    "fig, ax = plt.subplots()\n",
    "line1, = plt.plot(range(len(cost_history)),cost_history, label=\"Training Loss\", lw=4)\n",
    "plt.axis([0,training_epochs,0,np.max(cost_history)])\n",
    "plt.title(\"Error / Cost Function Over Training Epochs\")\n",
    "plt.legend(handles=[line1], loc=1)\n",
    "plt.show()\n"
   ]
  },
  {
   "cell_type": "markdown",
   "metadata": {},
   "source": [
    "### Evaluating the Model Performance"
   ]
  },
  {
   "cell_type": "code",
   "execution_count": 12,
   "metadata": {},
   "outputs": [
    {
     "name": "stdout",
     "output_type": "stream",
     "text": [
      "Mean Squared Error over Training Data: 10.6385\n"
     ]
    },
    {
     "data": {
      "image/png": "[encoded data removed]",
      "text/plain": [
       "<matplotlib.figure.Figure at 0x7f5ae8941b38>"
      ]
     },
     "metadata": {},
     "output_type": "display_data"
    },
    {
     "name": "stdout",
     "output_type": "stream",
     "text": [
      "TensorFlow Linear Regression R-Squared Score on Training Data: 0.999791989942\n",
      "Zero Intercept / Bias Value: 100.023\n",
      "Number of Coefficients: 10\n"
     ]
    },
    {
     "data": {
      "text/html": [
       "<div>\n",
       "<table border=\"1\" class=\"dataframe\">\n",
       "  <thead>\n",
       "    <tr style=\"text-align: right;\">\n",
       "      <th></th>\n",
       "      <th>Feature Name</th>\n",
       "      <th>Linear Coefficient</th>\n",
       "    </tr>\n",
       "  </thead>\n",
       "  <tbody>\n",
       "    <tr>\n",
       "      <th>0</th>\n",
       "      <td>1</td>\n",
       "      <td>77.464828</td>\n",
       "    </tr>\n",
       "    <tr>\n",
       "      <th>1</th>\n",
       "      <td>2</td>\n",
       "      <td>33.892826</td>\n",
       "    </tr>\n",
       "    <tr>\n",
       "      <th>2</th>\n",
       "      <td>3</td>\n",
       "      <td>70.716393</td>\n",
       "    </tr>\n",
       "    <tr>\n",
       "      <th>3</th>\n",
       "      <td>4</td>\n",
       "      <td>1.381437</td>\n",
       "    </tr>\n",
       "    <tr>\n",
       "      <th>4</th>\n",
       "      <td>5</td>\n",
       "      <td>82.290848</td>\n",
       "    </tr>\n",
       "    <tr>\n",
       "      <th>5</th>\n",
       "      <td>6</td>\n",
       "      <td>97.061325</td>\n",
       "    </tr>\n",
       "    <tr>\n",
       "      <th>6</th>\n",
       "      <td>7</td>\n",
       "      <td>89.759911</td>\n",
       "    </tr>\n",
       "    <tr>\n",
       "      <th>7</th>\n",
       "      <td>8</td>\n",
       "      <td>60.946606</td>\n",
       "    </tr>\n",
       "    <tr>\n",
       "      <th>8</th>\n",
       "      <td>9</td>\n",
       "      <td>98.592728</td>\n",
       "    </tr>\n",
       "    <tr>\n",
       "      <th>9</th>\n",
       "      <td>10</td>\n",
       "      <td>3.591177</td>\n",
       "    </tr>\n",
       "  </tbody>\n",
       "</table>\n",
       "</div>"
      ],
      "text/plain": [
       "  Feature Name  Linear Coefficient\n",
       "0            1           77.464828\n",
       "1            2           33.892826\n",
       "2            3           70.716393\n",
       "3            4            1.381437\n",
       "4            5           82.290848\n",
       "5            6           97.061325\n",
       "6            7           89.759911\n",
       "7            8           60.946606\n",
       "8            9           98.592728\n",
       "9           10            3.591177"
      ]
     },
     "execution_count": 12,
     "metadata": {},
     "output_type": "execute_result"
    }
   ],
   "source": [
    "# Plot Prediction Over Training Data\n",
    "pred_y_train = sess.run(y_, feed_dict={X: train_x})\n",
    "mse_train = tf.reduce_mean(tf.square(pred_y_train - train_y))\n",
    "print(\"Mean Squared Error over Training Data: %.4f\" % sess.run(mse_train)) \n",
    "\n",
    "fig, ax = plt.subplots()\n",
    "ax.scatter(train_y, pred_y_train)\n",
    "ax.plot([train_y.min(), train_y.max()], [train_y.min(), train_y.max()], 'k--', lw=3)\n",
    "ax.set_xlabel('Measured')\n",
    "ax.set_ylabel('Predicted')\n",
    "plt.title(\"Scatterplot of Predicted vs Measured over Training Data\")\n",
    "plt.show()\n",
    "\n",
    "from sklearn.metrics import r2_score\n",
    "print(\"TensorFlow Linear Regression R-Squared Score on Training Data:\", r2_score(train_y, pred_y_train))\n",
    "intercept_and_slope = sess.run(W)\n",
    "intercept = intercept_and_slope[0][0]\n",
    "slope = intercept_and_slope[1:].flatten()\n",
    "print(\"Zero Intercept / Bias Value:\", intercept)\n",
    "print('Number of Coefficients:', len(slope))\n",
    "pd.DataFrame(list(zip(features.columns, slope)), \\\n",
    "             columns = ['Feature Name', 'Linear Coefficient'])\n"
   ]
  },
  {
   "cell_type": "code",
   "execution_count": 13,
   "metadata": {},
   "outputs": [
    {
     "name": "stdout",
     "output_type": "stream",
     "text": [
      "Mean Squared Error over Testing Data: 17.3679\n"
     ]
    },
    {
     "data": {
      "image/png": "[encoded data removed]",
      "text/plain": [
       "<matplotlib.figure.Figure at 0x7f5ae86f7d30>"
      ]
     },
     "metadata": {},
     "output_type": "display_data"
    },
    {
     "name": "stdout",
     "output_type": "stream",
     "text": [
      "TensorFlow Linear Regression R-Squared Score on Training Data: 0.999656621733\n"
     ]
    }
   ],
   "source": [
    "# Plot Prediction Over Testing Data\n",
    "pred_y = sess.run(y_, feed_dict={X: test_x})\n",
    "mse = tf.reduce_mean(tf.square(test_y - pred_y))\n",
    "print(\"Mean Squared Error over Testing Data: %.4f\" % sess.run(mse)) \n",
    "\n",
    "fig, ax = plt.subplots()\n",
    "ax.scatter(test_y, pred_y)\n",
    "ax.plot([test_y.min(), test_y.max()], [test_y.min(), test_y.max()], 'k--', lw=3)\n",
    "ax.set_xlabel('Measured')\n",
    "ax.set_ylabel('Predicted')\n",
    "plt.title(\"Scatterplot of Predicted vs Measured over Testing Data\")\n",
    "plt.show()\n",
    "\n",
    "print(\"TensorFlow Linear Regression R-Squared Score on Training Data:\", r2_score(test_y, pred_y))\n",
    "\n",
    "# Close TensorFlow Session\n",
    "sess.close()\n"
   ]
  },
  {
   "cell_type": "code",
   "execution_count": null,
   "metadata": {
    "collapsed": true
   },
   "outputs": [],
   "source": []
  }
 ],
 "metadata": {
  "anaconda-cloud": {},
  "kernelspec": {
   "display_name": "Python 3",
   "language": "python",
   "name": "python3"
  },
  "language_info": {
   "codemirror_mode": {
    "name": "ipython",
    "version": 3
   },
   "file_extension": ".py",
   "mimetype": "text/x-python",
   "name": "python",
   "nbconvert_exporter": "python",
   "pygments_lexer": "ipython3",
   "version": "3.6.0"
  }
 },
 "nbformat": 4,
 "nbformat_minor": 2
}
