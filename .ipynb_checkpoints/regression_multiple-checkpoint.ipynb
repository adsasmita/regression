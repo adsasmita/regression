{
 "cells": [
  {
   "cell_type": "markdown",
   "metadata": {},
   "source": [
    "# Using Scikit-Learn Linear Regression ML Model"
   ]
  },
  {
   "cell_type": "code",
   "execution_count": 1,
   "metadata": {
    "scrolled": true
   },
   "outputs": [
    {
     "name": "stdout",
     "output_type": "stream",
     "text": [
      "Using Scikit-Learn version 0.18.1.\n",
      "The training dataset dataset has 1000 data points with 14 variables each.\n",
      "The testing dataset dataset has 105 data points with 14 variables each.\n",
      "The dataset has 10 number of feature variables.\n",
      "The dataset has 4 number of target variables.\n"
     ]
    }
   ],
   "source": [
    "# Import libraries necessary\n",
    "import numpy as np\n",
    "import pandas as pd\n",
    "import matplotlib.pyplot as plt\n",
    "%matplotlib inline\n",
    "import sklearn\n",
    "print('Using Scikit-Learn version {}.'.format(sklearn.__version__))\n",
    "\n",
    "# Load the Data\n",
    "data_train = pd.read_csv('data/reg2_data.csv')\n",
    "data_test = pd.read_csv('data/reg2_check.csv')\n",
    "\n",
    "# Split the Data into Training and Testing Sets\n",
    "target_fields = ['TGT0','TGT1','TGT2','TGT3']\n",
    "features_train, targets_train = data_train.drop(target_fields, axis=1), data_train[target_fields]\n",
    "features_test, targets_test = data_test.drop(target_fields, axis=1), data_test[target_fields]\n",
    "\n",
    "# Number of Features and Targets\n",
    "num_features = features_train.shape[1]\n",
    "num_targets = targets_train.shape[1]\n",
    "\n",
    "# Success\n",
    "print(\"The training dataset dataset has {} data points with {} variables each.\".format(*data_train.shape))\n",
    "print(\"The testing dataset dataset has {} data points with {} variables each.\".format(*data_test.shape))\n",
    "print(\"The dataset has {} number of feature variables.\".format(num_features))\n",
    "print(\"The dataset has {} number of target variables.\".format(num_targets))\n"
   ]
  },
  {
   "cell_type": "markdown",
   "metadata": {},
   "source": [
    "## Building the Machine Learning Models\n",
    "\n",
    "### Linear Regression"
   ]
  },
  {
   "cell_type": "code",
   "execution_count": 2,
   "metadata": {
    "scrolled": false
   },
   "outputs": [
    {
     "name": "stdout",
     "output_type": "stream",
     "text": [
      "Linear Regression R-Squared Score on Training Data: 0.999450351427\n",
      "Linear Regression R-Squared Score on Testing Data: 0.999838707527\n"
     ]
    }
   ],
   "source": [
    "from sklearn.linear_model import LinearRegression\n",
    "\n",
    "LinReg = LinearRegression()\n",
    "LinReg.fit(features_train, targets_train)\n",
    "\n",
    "print(\"Linear Regression R-Squared Score on Training Data:\", LinReg.score(features_train,targets_train))\n",
    "print(\"Linear Regression R-Squared Score on Testing Data:\", LinReg.score(features_test,targets_test))\n"
   ]
  },
  {
   "cell_type": "code",
   "execution_count": 3,
   "metadata": {},
   "outputs": [
    {
     "data": {
      "text/html": [
       "<div>\n",
       "<table border=\"1\" class=\"dataframe\">\n",
       "  <thead>\n",
       "    <tr style=\"text-align: right;\">\n",
       "      <th></th>\n",
       "      <th>TGT0 Linear Coef</th>\n",
       "      <th>TGT1 Linear Coef</th>\n",
       "      <th>TGT2 Linear Coef</th>\n",
       "      <th>TGT3 Linear Coef</th>\n",
       "    </tr>\n",
       "  </thead>\n",
       "  <tbody>\n",
       "    <tr>\n",
       "      <th>Value00</th>\n",
       "      <td>20.905332</td>\n",
       "      <td>41.552513</td>\n",
       "      <td>50.182144</td>\n",
       "      <td>82.005159</td>\n",
       "    </tr>\n",
       "    <tr>\n",
       "      <th>Value01</th>\n",
       "      <td>88.158113</td>\n",
       "      <td>45.449590</td>\n",
       "      <td>62.034891</td>\n",
       "      <td>69.434200</td>\n",
       "    </tr>\n",
       "    <tr>\n",
       "      <th>Value02</th>\n",
       "      <td>13.217732</td>\n",
       "      <td>43.906325</td>\n",
       "      <td>69.673260</td>\n",
       "      <td>63.395746</td>\n",
       "    </tr>\n",
       "    <tr>\n",
       "      <th>Value03</th>\n",
       "      <td>9.643977</td>\n",
       "      <td>40.141460</td>\n",
       "      <td>52.256499</td>\n",
       "      <td>73.243410</td>\n",
       "    </tr>\n",
       "    <tr>\n",
       "      <th>Value04</th>\n",
       "      <td>8.246295</td>\n",
       "      <td>33.614186</td>\n",
       "      <td>5.062020</td>\n",
       "      <td>14.806817</td>\n",
       "    </tr>\n",
       "    <tr>\n",
       "      <th>Value05</th>\n",
       "      <td>75.144577</td>\n",
       "      <td>36.345816</td>\n",
       "      <td>5.585402</td>\n",
       "      <td>81.583236</td>\n",
       "    </tr>\n",
       "    <tr>\n",
       "      <th>Value06</th>\n",
       "      <td>77.771108</td>\n",
       "      <td>50.226606</td>\n",
       "      <td>31.071148</td>\n",
       "      <td>13.283668</td>\n",
       "    </tr>\n",
       "    <tr>\n",
       "      <th>Value07</th>\n",
       "      <td>65.365560</td>\n",
       "      <td>46.032369</td>\n",
       "      <td>98.183041</td>\n",
       "      <td>67.698966</td>\n",
       "    </tr>\n",
       "    <tr>\n",
       "      <th>Value08</th>\n",
       "      <td>13.210945</td>\n",
       "      <td>35.044600</td>\n",
       "      <td>53.477449</td>\n",
       "      <td>79.023733</td>\n",
       "    </tr>\n",
       "    <tr>\n",
       "      <th>Value09</th>\n",
       "      <td>74.468893</td>\n",
       "      <td>82.573827</td>\n",
       "      <td>49.184078</td>\n",
       "      <td>43.227789</td>\n",
       "    </tr>\n",
       "  </tbody>\n",
       "</table>\n",
       "</div>"
      ],
      "text/plain": [
       "         TGT0 Linear Coef  TGT1 Linear Coef  TGT2 Linear Coef  \\\n",
       "Value00         20.905332         41.552513         50.182144   \n",
       "Value01         88.158113         45.449590         62.034891   \n",
       "Value02         13.217732         43.906325         69.673260   \n",
       "Value03          9.643977         40.141460         52.256499   \n",
       "Value04          8.246295         33.614186          5.062020   \n",
       "Value05         75.144577         36.345816          5.585402   \n",
       "Value06         77.771108         50.226606         31.071148   \n",
       "Value07         65.365560         46.032369         98.183041   \n",
       "Value08         13.210945         35.044600         53.477449   \n",
       "Value09         74.468893         82.573827         49.184078   \n",
       "\n",
       "         TGT3 Linear Coef  \n",
       "Value00         82.005159  \n",
       "Value01         69.434200  \n",
       "Value02         63.395746  \n",
       "Value03         73.243410  \n",
       "Value04         14.806817  \n",
       "Value05         81.583236  \n",
       "Value06         13.283668  \n",
       "Value07         67.698966  \n",
       "Value08         79.023733  \n",
       "Value09         43.227789  "
      ]
     },
     "execution_count": 3,
     "metadata": {},
     "output_type": "execute_result"
    }
   ],
   "source": [
    "# Create Dataframe for Coefficients\n",
    "cf = pd.DataFrame(LinReg.coef_.T)\n",
    "cf.columns = ['TGT0 Linear Coef', 'TGT1 Linear Coef', 'TGT2 Linear Coef', 'TGT3 Linear Coef']\n",
    "cf = cf.set_index(features_train.columns)\n",
    "\n",
    "cf"
   ]
  },
  {
   "cell_type": "code",
   "execution_count": 4,
   "metadata": {},
   "outputs": [
    {
     "data": {
      "text/html": [
       "<div>\n",
       "<table border=\"1\" class=\"dataframe\">\n",
       "  <thead>\n",
       "    <tr style=\"text-align: right;\">\n",
       "      <th></th>\n",
       "      <th>Zero Intercept / Bias Value</th>\n",
       "    </tr>\n",
       "  </thead>\n",
       "  <tbody>\n",
       "    <tr>\n",
       "      <th>TGT0</th>\n",
       "      <td>100.104347</td>\n",
       "    </tr>\n",
       "    <tr>\n",
       "      <th>TGT1</th>\n",
       "      <td>100.019108</td>\n",
       "    </tr>\n",
       "    <tr>\n",
       "      <th>TGT2</th>\n",
       "      <td>100.096213</td>\n",
       "    </tr>\n",
       "    <tr>\n",
       "      <th>TGT3</th>\n",
       "      <td>99.801738</td>\n",
       "    </tr>\n",
       "  </tbody>\n",
       "</table>\n",
       "</div>"
      ],
      "text/plain": [
       "      Zero Intercept / Bias Value\n",
       "TGT0                   100.104347\n",
       "TGT1                   100.019108\n",
       "TGT2                   100.096213\n",
       "TGT3                    99.801738"
      ]
     },
     "execution_count": 4,
     "metadata": {},
     "output_type": "execute_result"
    }
   ],
   "source": [
    "# Create Dataframe for Bias / Intercept\n",
    "bt = pd.DataFrame(LinReg.intercept_)\n",
    "bt.columns = ['Zero Intercept / Bias Value']\n",
    "bt = bt.set_index(targets_train.columns)\n",
    "\n",
    "bt"
   ]
  },
  {
   "cell_type": "code",
   "execution_count": 5,
   "metadata": {},
   "outputs": [
    {
     "data": {
      "text/html": [
       "<div>\n",
       "<table border=\"1\" class=\"dataframe\">\n",
       "  <thead>\n",
       "    <tr style=\"text-align: right;\">\n",
       "      <th></th>\n",
       "      <th>R-Squared Accuracy</th>\n",
       "    </tr>\n",
       "  </thead>\n",
       "  <tbody>\n",
       "    <tr>\n",
       "      <th>Training Data</th>\n",
       "      <td>0.999450</td>\n",
       "    </tr>\n",
       "    <tr>\n",
       "      <th>Testing Data</th>\n",
       "      <td>0.999839</td>\n",
       "    </tr>\n",
       "  </tbody>\n",
       "</table>\n",
       "</div>"
      ],
      "text/plain": [
       "               R-Squared Accuracy\n",
       "Training Data            0.999450\n",
       "Testing Data             0.999839"
      ]
     },
     "execution_count": 5,
     "metadata": {},
     "output_type": "execute_result"
    }
   ],
   "source": [
    "# Create Dataframe for R-Squared Values\n",
    "rsquared = np.array([LinReg.score(features_train,targets_train), LinReg.score(features_test,targets_test)])\n",
    "rs_rows = np.array(['Training Data', 'Testing Data'])\n",
    "\n",
    "rs = pd.DataFrame(rsquared)\n",
    "rs.columns = ['R-Squared Accuracy']\n",
    "rs = rs.set_index(rs_rows)\n",
    "\n",
    "rs"
   ]
  },
  {
   "cell_type": "markdown",
   "metadata": {
    "collapsed": true
   },
   "source": [
    "# Using Deep Learning Model"
   ]
  },
  {
   "cell_type": "code",
   "execution_count": 6,
   "metadata": {},
   "outputs": [
    {
     "name": "stdout",
     "output_type": "stream",
     "text": [
      "Using Google TensorFlow version 1.0.0\n"
     ]
    }
   ],
   "source": [
    "import tensorflow as tf\n",
    "print(\"Using Google TensorFlow version\", tf.__version__)\n",
    "\n",
    "# BUILD OUR MODEL\n",
    "def neural_network(learning_rate, epochs, features_train, targets_train, \\\n",
    "                   features_test, targets_test, size_in, size_out):\n",
    "\n",
    "    # Start TensorFlow Graph\n",
    "    tf.reset_default_graph()\n",
    "    sess = tf.Session()\n",
    "       \n",
    "    # Inputs\n",
    "    with tf.name_scope(\"Inputs\"):\n",
    "        x = tf.placeholder(tf.float32, shape=[None, size_in], name=\"features\")\n",
    "    \n",
    "    # Targets    \n",
    "    with tf.name_scope(\"Targets\"):\n",
    "        y = tf.placeholder(tf.float32, shape=[None, size_out], name=\"targets\")\n",
    "\n",
    "    # Single-Layer Dense Neural Network\n",
    "    with tf.name_scope(\"Dense\"):\n",
    "        w = tf.Variable(tf.ones([size_in, size_out]), name=\"weights\")\n",
    "        b = tf.Variable(tf.constant(1.0, shape=[size_out]), name=\"biases\")\n",
    "        y_ = tf.add(tf.matmul(x, w), b)\n",
    "        tf.summary.histogram(\"Weights\", w)\n",
    "        tf.summary.histogram(\"Biases\", b)\n",
    "        tf.summary.histogram(\"Predictions\", y_)\n",
    "\n",
    "    # Mean Squared Error (MSE) Cost Function\n",
    "    with tf.name_scope(\"MSE-Cost\"):\n",
    "        mse = tf.reduce_mean(tf.square(y_ - y), name=\"MSE\")\n",
    "        tf.summary.scalar(\"Mean_Squared_Error\", mse)\n",
    "\n",
    "    # Gradient Descent Optimizer\n",
    "    with tf.name_scope(\"Training\"):\n",
    "        train_step = tf.train.GradientDescentOptimizer(learning_rate).minimize(mse)\n",
    "\n",
    "    # R-Squared Accuracy Score\n",
    "    with tf.name_scope(\"R-Squared\"):\n",
    "        model_error = tf.reduce_sum(tf.square(tf.subtract(y, y_)))\n",
    "        average_error = tf.reduce_sum(tf.square(tf.subtract(y, tf.reduce_mean(y))))\n",
    "        # R-Squared Value\n",
    "        accuracy = tf.subtract(1.0, (tf.div(model_error, average_error)))\n",
    "        tf.summary.scalar(\"R_Squared_Value\", accuracy)\n",
    "\n",
    "    # Initialization\n",
    "    summ = tf.summary.merge_all()  \n",
    "    saver = tf.train.Saver()\n",
    "    sess.run(tf.global_variables_initializer())\n",
    "    writer = tf.summary.FileWriter('./logs/1/train')\n",
    "    writer.add_graph(sess.graph)\n",
    "    \n",
    "    # Training Set\n",
    "    for i in range(epochs):\n",
    "        if i % 10 == 0:\n",
    "            [train_accuracy, s] = sess.run([accuracy, summ], \\\n",
    "                        feed_dict={x: features_train, y: targets_train})\n",
    "            writer.add_summary(s, i)\n",
    "        sess.run(train_step, feed_dict={x: features_train, y: targets_train})\n",
    "    \n",
    "    # Results\n",
    "    slope = sess.run(w)\n",
    "    intercept = sess.run(b)\n",
    "    pred_train = sess.run(y_, feed_dict={x: features_train, y: targets_train})\n",
    "    pred_test = sess.run(y_, feed_dict={x: features_test, y: targets_test})\n",
    "\n",
    "    \n",
    "    return (slope, intercept, pred_train, pred_test)\n"
   ]
  },
  {
   "cell_type": "code",
   "execution_count": 7,
   "metadata": {},
   "outputs": [],
   "source": [
    "# Setting up Hyperparameters\n",
    "learning_rate = 0.01\n",
    "epochs = 5000\n",
    "\n",
    "# Run Training\n",
    "(slope, intercept, pred_train, pred_test) = neural_network(learning_rate, epochs, \\\n",
    "        features_train, targets_train, features_test, targets_test, num_features, num_targets)\n"
   ]
  },
  {
   "cell_type": "code",
   "execution_count": 8,
   "metadata": {
    "scrolled": true
   },
   "outputs": [
    {
     "name": "stdout",
     "output_type": "stream",
     "text": [
      "TensorFlow Linear Regression R-Squared Score on Training Data: 0.999450351336\n",
      "TensorFlow Linear Regression R-Squared Score on Testing Data: 0.999838683522\n",
      "Zero Intercept / Bias Value: [ 100.10345459  100.01828003  100.09541321   99.80091858]\n"
     ]
    },
    {
     "name": "stderr",
     "output_type": "stream",
     "text": [
      "/home/andridsasmita/anaconda3/envs/tf3/lib/python3.5/site-packages/sklearn/metrics/regression.py:482: DeprecationWarning: Default 'multioutput' behavior now corresponds to 'variance_weighted' value which is deprecated since 0.17, it will be changed to 'uniform_average' starting from 0.19.\n",
      "  DeprecationWarning)\n",
      "/home/andridsasmita/anaconda3/envs/tf3/lib/python3.5/site-packages/sklearn/metrics/regression.py:482: DeprecationWarning: Default 'multioutput' behavior now corresponds to 'variance_weighted' value which is deprecated since 0.17, it will be changed to 'uniform_average' starting from 0.19.\n",
      "  DeprecationWarning)\n"
     ]
    }
   ],
   "source": [
    "from sklearn.metrics import r2_score\n",
    "print(\"TensorFlow Linear Regression R-Squared Score on Training Data:\", r2_score(targets_train, pred_train))\n",
    "print(\"TensorFlow Linear Regression R-Squared Score on Testing Data:\", r2_score(targets_test, pred_test))\n",
    "print(\"Zero Intercept / Bias Value:\", intercept)\n"
   ]
  },
  {
   "cell_type": "code",
   "execution_count": 9,
   "metadata": {
    "scrolled": true
   },
   "outputs": [
    {
     "data": {
      "text/html": [
       "<div>\n",
       "<table border=\"1\" class=\"dataframe\">\n",
       "  <thead>\n",
       "    <tr style=\"text-align: right;\">\n",
       "      <th></th>\n",
       "      <th>TGT0 TF LC</th>\n",
       "      <th>TGT1 TF LC</th>\n",
       "      <th>TGT2 TF LC</th>\n",
       "      <th>TGT3 TF LC</th>\n",
       "    </tr>\n",
       "  </thead>\n",
       "  <tbody>\n",
       "    <tr>\n",
       "      <th>Value00</th>\n",
       "      <td>20.904984</td>\n",
       "      <td>41.551949</td>\n",
       "      <td>50.181709</td>\n",
       "      <td>82.004158</td>\n",
       "    </tr>\n",
       "    <tr>\n",
       "      <th>Value01</th>\n",
       "      <td>88.157341</td>\n",
       "      <td>45.449181</td>\n",
       "      <td>62.034386</td>\n",
       "      <td>69.433388</td>\n",
       "    </tr>\n",
       "    <tr>\n",
       "      <th>Value02</th>\n",
       "      <td>13.217596</td>\n",
       "      <td>43.905907</td>\n",
       "      <td>69.672462</td>\n",
       "      <td>63.395287</td>\n",
       "    </tr>\n",
       "    <tr>\n",
       "      <th>Value03</th>\n",
       "      <td>9.644102</td>\n",
       "      <td>40.141880</td>\n",
       "      <td>52.256523</td>\n",
       "      <td>73.244209</td>\n",
       "    </tr>\n",
       "    <tr>\n",
       "      <th>Value04</th>\n",
       "      <td>8.246093</td>\n",
       "      <td>33.613712</td>\n",
       "      <td>5.061895</td>\n",
       "      <td>14.806627</td>\n",
       "    </tr>\n",
       "    <tr>\n",
       "      <th>Value05</th>\n",
       "      <td>75.143692</td>\n",
       "      <td>36.345295</td>\n",
       "      <td>5.585310</td>\n",
       "      <td>81.582352</td>\n",
       "    </tr>\n",
       "    <tr>\n",
       "      <th>Value06</th>\n",
       "      <td>77.770287</td>\n",
       "      <td>50.226204</td>\n",
       "      <td>31.070923</td>\n",
       "      <td>13.283564</td>\n",
       "    </tr>\n",
       "    <tr>\n",
       "      <th>Value07</th>\n",
       "      <td>65.365891</td>\n",
       "      <td>46.032795</td>\n",
       "      <td>98.182350</td>\n",
       "      <td>67.699799</td>\n",
       "    </tr>\n",
       "    <tr>\n",
       "      <th>Value08</th>\n",
       "      <td>13.211051</td>\n",
       "      <td>35.044247</td>\n",
       "      <td>53.477032</td>\n",
       "      <td>79.022911</td>\n",
       "    </tr>\n",
       "    <tr>\n",
       "      <th>Value09</th>\n",
       "      <td>74.467979</td>\n",
       "      <td>82.572884</td>\n",
       "      <td>49.183640</td>\n",
       "      <td>43.227200</td>\n",
       "    </tr>\n",
       "  </tbody>\n",
       "</table>\n",
       "</div>"
      ],
      "text/plain": [
       "         TGT0 TF LC  TGT1 TF LC  TGT2 TF LC  TGT3 TF LC\n",
       "Value00   20.904984   41.551949   50.181709   82.004158\n",
       "Value01   88.157341   45.449181   62.034386   69.433388\n",
       "Value02   13.217596   43.905907   69.672462   63.395287\n",
       "Value03    9.644102   40.141880   52.256523   73.244209\n",
       "Value04    8.246093   33.613712    5.061895   14.806627\n",
       "Value05   75.143692   36.345295    5.585310   81.582352\n",
       "Value06   77.770287   50.226204   31.070923   13.283564\n",
       "Value07   65.365891   46.032795   98.182350   67.699799\n",
       "Value08   13.211051   35.044247   53.477032   79.022911\n",
       "Value09   74.467979   82.572884   49.183640   43.227200"
      ]
     },
     "execution_count": 9,
     "metadata": {},
     "output_type": "execute_result"
    }
   ],
   "source": [
    "# Create Dataframe for TF Coefficients\n",
    "tf_cf = pd.DataFrame(slope)\n",
    "tf_cf.columns = ['TGT0 TF LC', 'TGT1 TF LC', 'TGT2 TF LC', 'TGT3 TF LC']\n",
    "tf_cf = tf_cf.set_index(features_train.columns)\n",
    "\n",
    "tf_cf"
   ]
  },
  {
   "cell_type": "code",
   "execution_count": 10,
   "metadata": {},
   "outputs": [
    {
     "data": {
      "text/html": [
       "<div>\n",
       "<table border=\"1\" class=\"dataframe\">\n",
       "  <thead>\n",
       "    <tr style=\"text-align: right;\">\n",
       "      <th></th>\n",
       "      <th>TensorFlow Zero Intercept / Bias Value</th>\n",
       "    </tr>\n",
       "  </thead>\n",
       "  <tbody>\n",
       "    <tr>\n",
       "      <th>TGT0</th>\n",
       "      <td>100.103455</td>\n",
       "    </tr>\n",
       "    <tr>\n",
       "      <th>TGT1</th>\n",
       "      <td>100.018280</td>\n",
       "    </tr>\n",
       "    <tr>\n",
       "      <th>TGT2</th>\n",
       "      <td>100.095413</td>\n",
       "    </tr>\n",
       "    <tr>\n",
       "      <th>TGT3</th>\n",
       "      <td>99.800919</td>\n",
       "    </tr>\n",
       "  </tbody>\n",
       "</table>\n",
       "</div>"
      ],
      "text/plain": [
       "      TensorFlow Zero Intercept / Bias Value\n",
       "TGT0                              100.103455\n",
       "TGT1                              100.018280\n",
       "TGT2                              100.095413\n",
       "TGT3                               99.800919"
      ]
     },
     "execution_count": 10,
     "metadata": {},
     "output_type": "execute_result"
    }
   ],
   "source": [
    "# Create Dataframe for TF Bias / Intercept\n",
    "tf_bt = pd.DataFrame(intercept)\n",
    "tf_bt.columns = ['TensorFlow Zero Intercept / Bias Value']\n",
    "tf_bt = tf_bt.set_index(targets_train.columns)\n",
    "\n",
    "tf_bt"
   ]
  },
  {
   "cell_type": "code",
   "execution_count": 11,
   "metadata": {},
   "outputs": [
    {
     "name": "stderr",
     "output_type": "stream",
     "text": [
      "/home/andridsasmita/anaconda3/envs/tf3/lib/python3.5/site-packages/sklearn/metrics/regression.py:482: DeprecationWarning: Default 'multioutput' behavior now corresponds to 'variance_weighted' value which is deprecated since 0.17, it will be changed to 'uniform_average' starting from 0.19.\n",
      "  DeprecationWarning)\n",
      "/home/andridsasmita/anaconda3/envs/tf3/lib/python3.5/site-packages/sklearn/metrics/regression.py:482: DeprecationWarning: Default 'multioutput' behavior now corresponds to 'variance_weighted' value which is deprecated since 0.17, it will be changed to 'uniform_average' starting from 0.19.\n",
      "  DeprecationWarning)\n"
     ]
    },
    {
     "data": {
      "text/html": [
       "<div>\n",
       "<table border=\"1\" class=\"dataframe\">\n",
       "  <thead>\n",
       "    <tr style=\"text-align: right;\">\n",
       "      <th></th>\n",
       "      <th>TensorFlow R-Squared Accuracy</th>\n",
       "    </tr>\n",
       "  </thead>\n",
       "  <tbody>\n",
       "    <tr>\n",
       "      <th>Training Data</th>\n",
       "      <td>0.999450</td>\n",
       "    </tr>\n",
       "    <tr>\n",
       "      <th>Testing Data</th>\n",
       "      <td>0.999839</td>\n",
       "    </tr>\n",
       "  </tbody>\n",
       "</table>\n",
       "</div>"
      ],
      "text/plain": [
       "               TensorFlow R-Squared Accuracy\n",
       "Training Data                       0.999450\n",
       "Testing Data                        0.999839"
      ]
     },
     "execution_count": 11,
     "metadata": {},
     "output_type": "execute_result"
    }
   ],
   "source": [
    "# Create Dataframe for TF R-Squared Values\n",
    "tf_rsquared = np.array([r2_score(targets_train, pred_train), r2_score(targets_test, pred_test)])\n",
    "tf_rs_rows = np.array(['Training Data', 'Testing Data'])\n",
    "\n",
    "tf_rs = pd.DataFrame(tf_rsquared)\n",
    "tf_rs.columns = ['TensorFlow R-Squared Accuracy']\n",
    "tf_rs = tf_rs.set_index(tf_rs_rows)\n",
    "\n",
    "tf_rs"
   ]
  },
  {
   "cell_type": "code",
   "execution_count": null,
   "metadata": {
    "collapsed": true
   },
   "outputs": [],
   "source": []
  }
 ],
 "metadata": {
  "anaconda-cloud": {},
  "kernelspec": {
   "display_name": "Python 3",
   "language": "python",
   "name": "python3"
  },
  "language_info": {
   "codemirror_mode": {
    "name": "ipython",
    "version": 3
   },
   "file_extension": ".py",
   "mimetype": "text/x-python",
   "name": "python",
   "nbconvert_exporter": "python",
   "pygments_lexer": "ipython3",
   "version": "3.5.3"
  }
 },
 "nbformat": 4,
 "nbformat_minor": 2
}
