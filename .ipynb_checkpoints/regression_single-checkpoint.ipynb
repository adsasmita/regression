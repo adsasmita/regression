{
 "cells": [
  {
   "cell_type": "markdown",
   "metadata": {},
   "source": [
    "# Source Code: Single Variable Regression"
   ]
  },
  {
   "cell_type": "code",
   "execution_count": 1,
   "metadata": {},
   "outputs": [
    {
     "name": "stdout",
     "output_type": "stream",
     "text": [
      "Using Scikit-Learn version 0.18.1\n"
     ]
    }
   ],
   "source": [
    "# Import libraries\n",
    "import numpy as np\n",
    "import pandas as pd\n",
    "import matplotlib.pyplot as plt\n",
    "%matplotlib inline\n",
    "import sklearn\n",
    "\n",
    "# Success\n",
    "print('Using Scikit-Learn version', sklearn.__version__)"
   ]
  },
  {
   "cell_type": "code",
   "execution_count": 2,
   "metadata": {
    "collapsed": true
   },
   "outputs": [],
   "source": [
    "# Load the Data\n",
    "data = pd.read_csv('data/reg1_data.csv')\n",
    "targets = data['Target']\n",
    "features = data.drop('Target', axis = 1)"
   ]
  },
  {
   "cell_type": "markdown",
   "metadata": {},
   "source": [
    "### Data Exploration"
   ]
  },
  {
   "cell_type": "code",
   "execution_count": 3,
   "metadata": {},
   "outputs": [
    {
     "name": "stdout",
     "output_type": "stream",
     "text": [
      "Number of feature classes: 10\n",
      "Number of target classes: 1\n"
     ]
    }
   ],
   "source": [
    "# Number of Features Classes\n",
    "num_features = features.shape[1]\n",
    "# Number of Target Classes \n",
    "num_targets = 1 \n",
    "\n",
    "print('Number of feature classes:', num_features)\n",
    "print('Number of target classes:', num_targets)"
   ]
  },
  {
   "cell_type": "code",
   "execution_count": 4,
   "metadata": {
    "scrolled": true
   },
   "outputs": [
    {
     "name": "stdout",
     "output_type": "stream",
     "text": [
      "<class 'pandas.core.frame.DataFrame'>\n",
      "RangeIndex: 100 entries, 0 to 99\n",
      "Data columns (total 11 columns):\n",
      "1         100 non-null float64\n",
      "2         100 non-null float64\n",
      "3         100 non-null float64\n",
      "4         100 non-null float64\n",
      "5         100 non-null float64\n",
      "6         100 non-null float64\n",
      "7         100 non-null float64\n",
      "8         100 non-null float64\n",
      "9         100 non-null float64\n",
      "10        100 non-null float64\n",
      "Target    100 non-null float64\n",
      "dtypes: float64(11)\n",
      "memory usage: 8.7 KB\n"
     ]
    }
   ],
   "source": [
    "# Row and column sizes\n",
    "data.info()"
   ]
  },
  {
   "cell_type": "code",
   "execution_count": 5,
   "metadata": {
    "scrolled": true
   },
   "outputs": [
    {
     "data": {
      "text/html": [
       "<div>\n",
       "<table border=\"1\" class=\"dataframe\">\n",
       "  <thead>\n",
       "    <tr style=\"text-align: right;\">\n",
       "      <th></th>\n",
       "      <th>1</th>\n",
       "      <th>2</th>\n",
       "      <th>3</th>\n",
       "      <th>4</th>\n",
       "      <th>5</th>\n",
       "      <th>6</th>\n",
       "      <th>7</th>\n",
       "      <th>8</th>\n",
       "      <th>9</th>\n",
       "      <th>10</th>\n",
       "      <th>Target</th>\n",
       "    </tr>\n",
       "  </thead>\n",
       "  <tbody>\n",
       "    <tr>\n",
       "      <th>count</th>\n",
       "      <td>100.000000</td>\n",
       "      <td>100.000000</td>\n",
       "      <td>100.000000</td>\n",
       "      <td>100.000000</td>\n",
       "      <td>100.000000</td>\n",
       "      <td>100.000000</td>\n",
       "      <td>100.000000</td>\n",
       "      <td>100.000000</td>\n",
       "      <td>100.000000</td>\n",
       "      <td>100.000000</td>\n",
       "      <td>100.000000</td>\n",
       "    </tr>\n",
       "    <tr>\n",
       "      <th>mean</th>\n",
       "      <td>-0.091985</td>\n",
       "      <td>0.151920</td>\n",
       "      <td>-0.100582</td>\n",
       "      <td>-0.016703</td>\n",
       "      <td>-0.232290</td>\n",
       "      <td>-0.112952</td>\n",
       "      <td>0.047519</td>\n",
       "      <td>-0.033368</td>\n",
       "      <td>0.031245</td>\n",
       "      <td>-0.095370</td>\n",
       "      <td>65.817687</td>\n",
       "    </tr>\n",
       "    <tr>\n",
       "      <th>std</th>\n",
       "      <td>0.988034</td>\n",
       "      <td>0.902414</td>\n",
       "      <td>0.968545</td>\n",
       "      <td>1.082822</td>\n",
       "      <td>1.008614</td>\n",
       "      <td>1.038523</td>\n",
       "      <td>0.909011</td>\n",
       "      <td>0.865651</td>\n",
       "      <td>1.030341</td>\n",
       "      <td>1.050656</td>\n",
       "      <td>230.061197</td>\n",
       "    </tr>\n",
       "    <tr>\n",
       "      <th>min</th>\n",
       "      <td>-2.659172</td>\n",
       "      <td>-3.046143</td>\n",
       "      <td>-2.772593</td>\n",
       "      <td>-2.369587</td>\n",
       "      <td>-2.582797</td>\n",
       "      <td>-2.223403</td>\n",
       "      <td>-2.255564</td>\n",
       "      <td>-2.364174</td>\n",
       "      <td>-2.834555</td>\n",
       "      <td>-2.739677</td>\n",
       "      <td>-580.286988</td>\n",
       "    </tr>\n",
       "    <tr>\n",
       "      <th>25%</th>\n",
       "      <td>-0.682161</td>\n",
       "      <td>-0.359271</td>\n",
       "      <td>-0.840113</td>\n",
       "      <td>-0.742095</td>\n",
       "      <td>-0.904785</td>\n",
       "      <td>-0.880886</td>\n",
       "      <td>-0.651297</td>\n",
       "      <td>-0.682184</td>\n",
       "      <td>-0.582309</td>\n",
       "      <td>-0.793497</td>\n",
       "      <td>-77.119139</td>\n",
       "    </tr>\n",
       "    <tr>\n",
       "      <th>50%</th>\n",
       "      <td>-0.201977</td>\n",
       "      <td>0.042377</td>\n",
       "      <td>-0.039419</td>\n",
       "      <td>-0.082423</td>\n",
       "      <td>-0.391050</td>\n",
       "      <td>-0.193920</td>\n",
       "      <td>0.100924</td>\n",
       "      <td>-0.033249</td>\n",
       "      <td>0.121401</td>\n",
       "      <td>-0.153184</td>\n",
       "      <td>73.779970</td>\n",
       "    </tr>\n",
       "    <tr>\n",
       "      <th>75%</th>\n",
       "      <td>0.415777</td>\n",
       "      <td>0.706849</td>\n",
       "      <td>0.597932</td>\n",
       "      <td>0.689971</td>\n",
       "      <td>0.444220</td>\n",
       "      <td>0.432408</td>\n",
       "      <td>0.776522</td>\n",
       "      <td>0.593272</td>\n",
       "      <td>0.625741</td>\n",
       "      <td>0.560587</td>\n",
       "      <td>222.253436</td>\n",
       "    </tr>\n",
       "    <tr>\n",
       "      <th>max</th>\n",
       "      <td>2.696224</td>\n",
       "      <td>2.380745</td>\n",
       "      <td>1.929532</td>\n",
       "      <td>2.594425</td>\n",
       "      <td>2.011257</td>\n",
       "      <td>2.759355</td>\n",
       "      <td>2.303917</td>\n",
       "      <td>2.116791</td>\n",
       "      <td>2.412454</td>\n",
       "      <td>2.256723</td>\n",
       "      <td>696.232473</td>\n",
       "    </tr>\n",
       "  </tbody>\n",
       "</table>\n",
       "</div>"
      ],
      "text/plain": [
       "                1           2           3           4           5           6  \\\n",
       "count  100.000000  100.000000  100.000000  100.000000  100.000000  100.000000   \n",
       "mean    -0.091985    0.151920   -0.100582   -0.016703   -0.232290   -0.112952   \n",
       "std      0.988034    0.902414    0.968545    1.082822    1.008614    1.038523   \n",
       "min     -2.659172   -3.046143   -2.772593   -2.369587   -2.582797   -2.223403   \n",
       "25%     -0.682161   -0.359271   -0.840113   -0.742095   -0.904785   -0.880886   \n",
       "50%     -0.201977    0.042377   -0.039419   -0.082423   -0.391050   -0.193920   \n",
       "75%      0.415777    0.706849    0.597932    0.689971    0.444220    0.432408   \n",
       "max      2.696224    2.380745    1.929532    2.594425    2.011257    2.759355   \n",
       "\n",
       "                7           8           9          10      Target  \n",
       "count  100.000000  100.000000  100.000000  100.000000  100.000000  \n",
       "mean     0.047519   -0.033368    0.031245   -0.095370   65.817687  \n",
       "std      0.909011    0.865651    1.030341    1.050656  230.061197  \n",
       "min     -2.255564   -2.364174   -2.834555   -2.739677 -580.286988  \n",
       "25%     -0.651297   -0.682184   -0.582309   -0.793497  -77.119139  \n",
       "50%      0.100924   -0.033249    0.121401   -0.153184   73.779970  \n",
       "75%      0.776522    0.593272    0.625741    0.560587  222.253436  \n",
       "max      2.303917    2.116791    2.412454    2.256723  696.232473  "
      ]
     },
     "execution_count": 5,
     "metadata": {},
     "output_type": "execute_result"
    }
   ],
   "source": [
    "# Mean, Stddev, Min, Max Values\n",
    "data.describe()"
   ]
  },
  {
   "cell_type": "markdown",
   "metadata": {},
   "source": [
    "### Splitting the Dataset into Training and Testing Sets"
   ]
  },
  {
   "cell_type": "code",
   "execution_count": 6,
   "metadata": {},
   "outputs": [
    {
     "name": "stdout",
     "output_type": "stream",
     "text": [
      "Number of training datapoints: 80\n",
      "Number of testing datapoints: 20\n"
     ]
    }
   ],
   "source": [
    "# Split into Training and Testing Sets\n",
    "from sklearn.model_selection import train_test_split\n",
    "\n",
    "features_train, features_test, targets_train, targets_test = train_test_split( \\\n",
    "                        features, targets, test_size=0.20, random_state=12)\n",
    "\n",
    "print('Number of training datapoints:', features_train.shape[0])\n",
    "print('Number of testing datapoints:', features_test.shape[0])"
   ]
  },
  {
   "cell_type": "markdown",
   "metadata": {},
   "source": [
    "## Building Machine Learning Model\n",
    "\n",
    "### Analytical Linear Regression (Ordinary Least Squares)"
   ]
  },
  {
   "cell_type": "code",
   "execution_count": 7,
   "metadata": {
    "collapsed": true
   },
   "outputs": [],
   "source": [
    "# Analytical Solution using Normal Equation\n",
    "def analytic_normal(features_train, features_test, targets_train):\n",
    "    \n",
    "    # Append Bias Term to Features Matrix\n",
    "    n_training_samples = features_train.shape[0]\n",
    "    n_dimensions = features_train.shape[1]\n",
    "    \n",
    "    # Features + Bias Matrix\n",
    "    X = np.reshape(np.c_[np.ones(n_training_samples),features_train],[n_training_samples,n_dimensions + 1])\n",
    "    \n",
    "    # Targets Matrix\n",
    "    Y = np.reshape(targets_train,[n_training_samples,1])\n",
    "    \n",
    "    # Solve for Theta = (X(T).X)^(-1).X(T).Y\n",
    "    # Theta will include Bias + Weights Matrix\n",
    "    theta = np.dot(np.linalg.inv(np.matrix(np.dot(X.T, X))), np.dot(X.T, Y))\n",
    "    theta = np.array(np.reshape(theta,(-1,1)))\n",
    "    \n",
    "    # Split Theta into Bias and Weights\n",
    "    bias = theta[0]\n",
    "    weights = theta[1:]\n",
    "    weights = np.reshape(weights,(-1,))\n",
    "    \n",
    "    # Predictions on Training and Testing Sets\n",
    "    pred_trn = np.dot(features_train, weights) + bias\n",
    "    pred_tst = np.dot(features_test, weights) + bias\n",
    "    \n",
    "    return bias, weights, pred_trn, pred_tst"
   ]
  },
  {
   "cell_type": "code",
   "execution_count": 8,
   "metadata": {},
   "outputs": [
    {
     "name": "stdout",
     "output_type": "stream",
     "text": [
      "Intercept / Bias Value: 100.280475935\n",
      "Number of Weight Coefficients: 10\n"
     ]
    },
    {
     "name": "stderr",
     "output_type": "stream",
     "text": [
      "/home/andridsasmita/anaconda3/envs/tf3/lib/python3.5/site-packages/numpy/core/fromnumeric.py:57: FutureWarning: reshape is deprecated and will raise in a subsequent release. Please use .values.reshape(...) instead\n",
      "  return getattr(obj, method)(*args, **kwds)\n"
     ]
    },
    {
     "data": {
      "text/html": [
       "<div>\n",
       "<table border=\"1\" class=\"dataframe\">\n",
       "  <thead>\n",
       "    <tr style=\"text-align: right;\">\n",
       "      <th></th>\n",
       "      <th>Feature Name</th>\n",
       "      <th>Weight Coefficient</th>\n",
       "    </tr>\n",
       "  </thead>\n",
       "  <tbody>\n",
       "    <tr>\n",
       "      <th>0</th>\n",
       "      <td>1</td>\n",
       "      <td>77.680239</td>\n",
       "    </tr>\n",
       "    <tr>\n",
       "      <th>1</th>\n",
       "      <td>2</td>\n",
       "      <td>34.180250</td>\n",
       "    </tr>\n",
       "    <tr>\n",
       "      <th>2</th>\n",
       "      <td>3</td>\n",
       "      <td>70.435453</td>\n",
       "    </tr>\n",
       "    <tr>\n",
       "      <th>3</th>\n",
       "      <td>4</td>\n",
       "      <td>1.930927</td>\n",
       "    </tr>\n",
       "    <tr>\n",
       "      <th>4</th>\n",
       "      <td>5</td>\n",
       "      <td>82.404002</td>\n",
       "    </tr>\n",
       "    <tr>\n",
       "      <th>5</th>\n",
       "      <td>6</td>\n",
       "      <td>97.114413</td>\n",
       "    </tr>\n",
       "    <tr>\n",
       "      <th>6</th>\n",
       "      <td>7</td>\n",
       "      <td>89.521548</td>\n",
       "    </tr>\n",
       "    <tr>\n",
       "      <th>7</th>\n",
       "      <td>8</td>\n",
       "      <td>60.877807</td>\n",
       "    </tr>\n",
       "    <tr>\n",
       "      <th>8</th>\n",
       "      <td>9</td>\n",
       "      <td>98.705144</td>\n",
       "    </tr>\n",
       "    <tr>\n",
       "      <th>9</th>\n",
       "      <td>10</td>\n",
       "      <td>3.061605</td>\n",
       "    </tr>\n",
       "  </tbody>\n",
       "</table>\n",
       "</div>"
      ],
      "text/plain": [
       "  Feature Name  Weight Coefficient\n",
       "0            1           77.680239\n",
       "1            2           34.180250\n",
       "2            3           70.435453\n",
       "3            4            1.930927\n",
       "4            5           82.404002\n",
       "5            6           97.114413\n",
       "6            7           89.521548\n",
       "7            8           60.877807\n",
       "8            9           98.705144\n",
       "9           10            3.061605"
      ]
     },
     "execution_count": 8,
     "metadata": {},
     "output_type": "execute_result"
    }
   ],
   "source": [
    "# Returning Solution to the Analytical Function\n",
    "bias, weights, pred_trn, pred_tst = analytic_normal(features_train, features_test, targets_train)\n",
    "\n",
    "print(\"Intercept / Bias Value:\", bias[0])\n",
    "print('Number of Weight Coefficients:', len(weights))\n",
    "\n",
    "pd.DataFrame(list(zip(features.columns, weights)), \\\n",
    "             columns = ['Feature Name', 'Weight Coefficient'])"
   ]
  },
  {
   "cell_type": "code",
   "execution_count": 9,
   "metadata": {},
   "outputs": [
    {
     "name": "stdout",
     "output_type": "stream",
     "text": [
      "R-Squared Score - Training Data: 0.999771097426\n",
      "R-Squared Score - Testing Data: 0.999743532398\n"
     ]
    }
   ],
   "source": [
    "# Evaluating Accuracy of Analytical Model\n",
    "from sklearn.metrics import r2_score\n",
    "print(\"R-Squared Score - Training Data:\", r2_score(targets_train, pred_trn))\n",
    "print(\"R-Squared Score - Testing Data:\", r2_score(targets_test, pred_tst))"
   ]
  },
  {
   "cell_type": "markdown",
   "metadata": {},
   "source": [
    "### Analytical Linear Regression (Ordinary Least Squares) Using Scikit-Learn"
   ]
  },
  {
   "cell_type": "code",
   "execution_count": 10,
   "metadata": {},
   "outputs": [
    {
     "data": {
      "text/plain": [
       "LinearRegression(copy_X=True, fit_intercept=True, n_jobs=1, normalize=False)"
      ]
     },
     "execution_count": 10,
     "metadata": {},
     "output_type": "execute_result"
    }
   ],
   "source": [
    "# ML Linear Regression using Scikit-Learn\n",
    "from sklearn.linear_model import LinearRegression\n",
    "\n",
    "linreg = LinearRegression()\n",
    "linreg.fit(features_train, targets_train)"
   ]
  },
  {
   "cell_type": "code",
   "execution_count": 11,
   "metadata": {},
   "outputs": [
    {
     "name": "stdout",
     "output_type": "stream",
     "text": [
      "Intercept / Bias Value: 100.280475935\n",
      "Number of Weight Coefficients: 10\n"
     ]
    },
    {
     "data": {
      "text/html": [
       "<div>\n",
       "<table border=\"1\" class=\"dataframe\">\n",
       "  <thead>\n",
       "    <tr style=\"text-align: right;\">\n",
       "      <th></th>\n",
       "      <th>Feature Name</th>\n",
       "      <th>Weight Coefficient</th>\n",
       "    </tr>\n",
       "  </thead>\n",
       "  <tbody>\n",
       "    <tr>\n",
       "      <th>0</th>\n",
       "      <td>1</td>\n",
       "      <td>77.680239</td>\n",
       "    </tr>\n",
       "    <tr>\n",
       "      <th>1</th>\n",
       "      <td>2</td>\n",
       "      <td>34.180250</td>\n",
       "    </tr>\n",
       "    <tr>\n",
       "      <th>2</th>\n",
       "      <td>3</td>\n",
       "      <td>70.435453</td>\n",
       "    </tr>\n",
       "    <tr>\n",
       "      <th>3</th>\n",
       "      <td>4</td>\n",
       "      <td>1.930927</td>\n",
       "    </tr>\n",
       "    <tr>\n",
       "      <th>4</th>\n",
       "      <td>5</td>\n",
       "      <td>82.404002</td>\n",
       "    </tr>\n",
       "    <tr>\n",
       "      <th>5</th>\n",
       "      <td>6</td>\n",
       "      <td>97.114413</td>\n",
       "    </tr>\n",
       "    <tr>\n",
       "      <th>6</th>\n",
       "      <td>7</td>\n",
       "      <td>89.521548</td>\n",
       "    </tr>\n",
       "    <tr>\n",
       "      <th>7</th>\n",
       "      <td>8</td>\n",
       "      <td>60.877807</td>\n",
       "    </tr>\n",
       "    <tr>\n",
       "      <th>8</th>\n",
       "      <td>9</td>\n",
       "      <td>98.705144</td>\n",
       "    </tr>\n",
       "    <tr>\n",
       "      <th>9</th>\n",
       "      <td>10</td>\n",
       "      <td>3.061605</td>\n",
       "    </tr>\n",
       "  </tbody>\n",
       "</table>\n",
       "</div>"
      ],
      "text/plain": [
       "  Feature Name  Weight Coefficient\n",
       "0            1           77.680239\n",
       "1            2           34.180250\n",
       "2            3           70.435453\n",
       "3            4            1.930927\n",
       "4            5           82.404002\n",
       "5            6           97.114413\n",
       "6            7           89.521548\n",
       "7            8           60.877807\n",
       "8            9           98.705144\n",
       "9           10            3.061605"
      ]
     },
     "execution_count": 11,
     "metadata": {},
     "output_type": "execute_result"
    }
   ],
   "source": [
    "# Returning Result\n",
    "print(\"Intercept / Bias Value:\", linreg.intercept_)\n",
    "print('Number of Weight Coefficients:', len(linreg.coef_))\n",
    "\n",
    "pd.DataFrame(list(zip(features.columns, linreg.coef_)), \\\n",
    "             columns = ['Feature Name', 'Weight Coefficient'])"
   ]
  },
  {
   "cell_type": "code",
   "execution_count": 12,
   "metadata": {
    "scrolled": false
   },
   "outputs": [
    {
     "name": "stdout",
     "output_type": "stream",
     "text": [
      "Sklearn R-Squared Score - Training Data: 0.999771097426\n",
      "Sklearn R-Squared Score - Testing Data: 0.999743532398\n"
     ]
    }
   ],
   "source": [
    "# Evaluating Accuracy of Sklearn Linear Regression Model\n",
    "print(\"Sklearn R-Squared Score - Training Data:\", linreg.score(features_train,targets_train))\n",
    "print(\"Sklearn R-Squared Score - Testing Data:\", linreg.score(features_test,targets_test))"
   ]
  },
  {
   "cell_type": "markdown",
   "metadata": {
    "collapsed": true
   },
   "source": [
    "## Building Neural Network Model\n",
    "\n",
    "### Single-Layer Neural Network Using Google TensorFlow\n",
    "\n",
    "- Optimized Using Gradient Descent\n",
    "- No Hidden Layer\n",
    "- No Activation Function\n",
    "- Predictions is therefore Y = W.X + b"
   ]
  },
  {
   "cell_type": "code",
   "execution_count": 13,
   "metadata": {},
   "outputs": [
    {
     "name": "stdout",
     "output_type": "stream",
     "text": [
      "Using Google TensorFlow version 1.0.0\n"
     ]
    }
   ],
   "source": [
    "# Import TF Library\n",
    "import tensorflow as tf\n",
    "print(\"Using Google TensorFlow version\", tf.__version__)"
   ]
  },
  {
   "cell_type": "code",
   "execution_count": 14,
   "metadata": {},
   "outputs": [
    {
     "name": "stdout",
     "output_type": "stream",
     "text": [
      "Build successful!\n"
     ]
    }
   ],
   "source": [
    "# Build NN Architecture\n",
    "def neural_network(learning_rate, epochs, features_train, targets_train, \\\n",
    "                   features_test, targets_test, size_in, size_out):\n",
    "\n",
    "    # Start TensorFlow Graph\n",
    "    tf.reset_default_graph()\n",
    "    sess = tf.Session()\n",
    "       \n",
    "    # Inputs\n",
    "    with tf.name_scope(\"Inputs\"):\n",
    "        x = tf.placeholder(tf.float32, shape=[None, size_in], name=\"features\")\n",
    "    \n",
    "    # Targets    \n",
    "    with tf.name_scope(\"Targets\"):\n",
    "        y = tf.placeholder(tf.float32, shape=[None, size_out], name=\"targets\")\n",
    "\n",
    "    # Single-Layer Dense Neural Network\n",
    "    with tf.name_scope(\"Dense\"):\n",
    "        w = tf.Variable(tf.ones([size_in, size_out]), name=\"weights\")\n",
    "        b = tf.Variable(tf.constant(1.0, shape=[size_out]), name=\"biases\")\n",
    "        y_ = tf.add(tf.matmul(x, w), b)\n",
    "        tf.summary.histogram(\"Weights\", w)\n",
    "        tf.summary.histogram(\"Biases\", b)\n",
    "        tf.summary.histogram(\"Predictions\", y_)\n",
    "\n",
    "    # Mean Squared Error (MSE) Cost Function\n",
    "    with tf.name_scope(\"MSE-Cost\"):\n",
    "        mse = tf.reduce_mean(tf.square(y_ - y), name=\"MSE\")\n",
    "        tf.summary.scalar(\"Mean_Squared_Error\", mse)\n",
    "\n",
    "    # Gradient Descent Optimizer\n",
    "    with tf.name_scope(\"Training\"):\n",
    "        train_step = tf.train.GradientDescentOptimizer(learning_rate).minimize(mse)\n",
    "\n",
    "    # R-Squared Accuracy Score\n",
    "    with tf.name_scope(\"R-Squared\"):\n",
    "        model_error = tf.reduce_sum(tf.square(tf.subtract(y, y_)))\n",
    "        average_error = tf.reduce_sum(tf.square(tf.subtract(y, tf.reduce_mean(y))))\n",
    "        # R-Squared Value\n",
    "        accuracy = tf.subtract(1.0, (tf.div(model_error, average_error)))\n",
    "        tf.summary.scalar(\"R_Squared_Value\", accuracy)\n",
    "\n",
    "    # Initialization\n",
    "    summ = tf.summary.merge_all()  \n",
    "    saver = tf.train.Saver()\n",
    "    sess.run(tf.global_variables_initializer())\n",
    "    writer = tf.summary.FileWriter('./logs/1/train')\n",
    "    writer.add_graph(sess.graph)\n",
    "    \n",
    "    # Training Set\n",
    "    for i in range(epochs):\n",
    "        if i % 10 == 0:\n",
    "            [train_accuracy, s] = sess.run([accuracy, summ], \\\n",
    "                        feed_dict={x: features_train, y: targets_train})\n",
    "            writer.add_summary(s, i)\n",
    "        sess.run(train_step, feed_dict={x: features_train, y: targets_train})\n",
    "    \n",
    "    # Results\n",
    "    slope = sess.run(w)\n",
    "    intercept = sess.run(b)\n",
    "    pred_train = sess.run(y_, feed_dict={x: features_train, y: targets_train})\n",
    "    pred_test = sess.run(y_, feed_dict={x: features_test, y: targets_test})\n",
    "\n",
    "    \n",
    "    return (slope, intercept, pred_train, pred_test)\n",
    "\n",
    "print('Build successful!')"
   ]
  },
  {
   "cell_type": "code",
   "execution_count": 15,
   "metadata": {},
   "outputs": [
    {
     "name": "stdout",
     "output_type": "stream",
     "text": [
      "Using 0.01 learning rate on 2000 training epochs\n"
     ]
    }
   ],
   "source": [
    "# Setting up Hyperparameters\n",
    "learning_rate = 0.01\n",
    "epochs = 2000\n",
    "\n",
    "print('Using {} learning rate on {} training epochs'.format(learning_rate, epochs))"
   ]
  },
  {
   "cell_type": "code",
   "execution_count": 16,
   "metadata": {},
   "outputs": [
    {
     "name": "stderr",
     "output_type": "stream",
     "text": [
      "/home/andridsasmita/anaconda3/envs/tf3/lib/python3.5/site-packages/numpy/core/fromnumeric.py:57: FutureWarning: reshape is deprecated and will raise in a subsequent release. Please use .values.reshape(...) instead\n",
      "  return getattr(obj, method)(*args, **kwds)\n"
     ]
    }
   ],
   "source": [
    "# Convert Targets shape from (None,) to (None, 1) to feed into TensorFlow Graph\n",
    "targets_train = np.reshape(targets_train, (-1, 1))\n",
    "targets_test = np.reshape(targets_test, (-1, 1))"
   ]
  },
  {
   "cell_type": "code",
   "execution_count": 17,
   "metadata": {
    "collapsed": true
   },
   "outputs": [],
   "source": [
    "# Run Training\n",
    "(slope, intercept, pred_train, pred_test) = neural_network(learning_rate, epochs, \\\n",
    "        features_train, targets_train, features_test, targets_test, num_features, num_targets)"
   ]
  },
  {
   "cell_type": "markdown",
   "metadata": {},
   "source": [
    "## Evaluating the Model Performance"
   ]
  },
  {
   "cell_type": "markdown",
   "metadata": {},
   "source": [
    "### Plotting Results"
   ]
  },
  {
   "cell_type": "code",
   "execution_count": 18,
   "metadata": {},
   "outputs": [
    {
     "data": {
      "image/png": "[encoded data removed]",
      "text/plain": [
       "<matplotlib.figure.Figure at 0x7ff0f1163eb8>"
      ]
     },
     "metadata": {},
     "output_type": "display_data"
    }
   ],
   "source": [
    "# Plot Prediction Over Training Data\n",
    "fig, ax = plt.subplots()\n",
    "ax.scatter(targets_train, pred_train)\n",
    "ax.plot([targets_train.min(), targets_train.max()], [targets_train.min(), targets_train.max()], 'g--', lw=1)\n",
    "ax.set_xlabel('Measured')\n",
    "ax.set_ylabel('Predicted')\n",
    "plt.title(\"Scatterplot of Predicted vs Measured over Training Data\")\n",
    "plt.show()"
   ]
  },
  {
   "cell_type": "code",
   "execution_count": 19,
   "metadata": {},
   "outputs": [
    {
     "data": {
      "image/png": "[encoded data removed]",
      "text/plain": [
       "<matplotlib.figure.Figure at 0x7ff0986be860>"
      ]
     },
     "metadata": {},
     "output_type": "display_data"
    }
   ],
   "source": [
    "# Plot Prediction Over Training Data\n",
    "fig, ax = plt.subplots()\n",
    "ax.scatter(targets_test, pred_test)\n",
    "ax.plot([targets_test.min(), targets_test.max()], [targets_test.min(), targets_test.max()], 'g--', lw=1)\n",
    "ax.set_xlabel('Measured')\n",
    "ax.set_ylabel('Predicted')\n",
    "plt.title(\"Scatterplot of Predicted vs Measured over Testing Data\")\n",
    "plt.show()"
   ]
  },
  {
   "cell_type": "code",
   "execution_count": 20,
   "metadata": {},
   "outputs": [
    {
     "name": "stdout",
     "output_type": "stream",
     "text": [
      "TF R-Squared Score on Training Data: 0.999771097887\n",
      "TF R-Squared Score on Testing Data: 0.999743578195\n",
      "Intercept / Bias Value: [ 100.28016663]\n",
      "Number of Weight Coefficients: 10\n"
     ]
    },
    {
     "data": {
      "text/html": [
       "<div>\n",
       "<table border=\"1\" class=\"dataframe\">\n",
       "  <thead>\n",
       "    <tr style=\"text-align: right;\">\n",
       "      <th></th>\n",
       "      <th>Feature Name</th>\n",
       "      <th>Weight Coefficient</th>\n",
       "    </tr>\n",
       "  </thead>\n",
       "  <tbody>\n",
       "    <tr>\n",
       "      <th>0</th>\n",
       "      <td>1</td>\n",
       "      <td>77.679901</td>\n",
       "    </tr>\n",
       "    <tr>\n",
       "      <th>1</th>\n",
       "      <td>2</td>\n",
       "      <td>34.180428</td>\n",
       "    </tr>\n",
       "    <tr>\n",
       "      <th>2</th>\n",
       "      <td>3</td>\n",
       "      <td>70.435722</td>\n",
       "    </tr>\n",
       "    <tr>\n",
       "      <th>3</th>\n",
       "      <td>4</td>\n",
       "      <td>1.930822</td>\n",
       "    </tr>\n",
       "    <tr>\n",
       "      <th>4</th>\n",
       "      <td>5</td>\n",
       "      <td>82.403786</td>\n",
       "    </tr>\n",
       "    <tr>\n",
       "      <th>5</th>\n",
       "      <td>6</td>\n",
       "      <td>97.114487</td>\n",
       "    </tr>\n",
       "    <tr>\n",
       "      <th>6</th>\n",
       "      <td>7</td>\n",
       "      <td>89.521347</td>\n",
       "    </tr>\n",
       "    <tr>\n",
       "      <th>7</th>\n",
       "      <td>8</td>\n",
       "      <td>60.877563</td>\n",
       "    </tr>\n",
       "    <tr>\n",
       "      <th>8</th>\n",
       "      <td>9</td>\n",
       "      <td>98.704948</td>\n",
       "    </tr>\n",
       "    <tr>\n",
       "      <th>9</th>\n",
       "      <td>10</td>\n",
       "      <td>3.061598</td>\n",
       "    </tr>\n",
       "  </tbody>\n",
       "</table>\n",
       "</div>"
      ],
      "text/plain": [
       "  Feature Name  Weight Coefficient\n",
       "0            1           77.679901\n",
       "1            2           34.180428\n",
       "2            3           70.435722\n",
       "3            4            1.930822\n",
       "4            5           82.403786\n",
       "5            6           97.114487\n",
       "6            7           89.521347\n",
       "7            8           60.877563\n",
       "8            9           98.704948\n",
       "9           10            3.061598"
      ]
     },
     "execution_count": 20,
     "metadata": {},
     "output_type": "execute_result"
    }
   ],
   "source": [
    "# Evaluating Accuracy of TF Model\n",
    "from sklearn.metrics import r2_score\n",
    "print(\"TF R-Squared Score on Training Data:\", r2_score(targets_train, pred_train))\n",
    "print(\"TF R-Squared Score on Testing Data:\", r2_score(targets_test, pred_test))\n",
    "print(\"Intercept / Bias Value:\", intercept)\n",
    "print('Number of Weight Coefficients:', len(slope))\n",
    "\n",
    "# Reshape Slope Array to (None,)\n",
    "slope = np.reshape(slope,(-1,))\n",
    "\n",
    "# Put Results into Dataframe\n",
    "pd.DataFrame(list(zip(features.columns, slope)), \\\n",
    "             columns = ['Feature Name', 'Weight Coefficient'])"
   ]
  },
  {
   "cell_type": "markdown",
   "metadata": {
    "collapsed": true
   },
   "source": [
    "## Other Algorithms Considered\n",
    "\n",
    "### Support Vector Machine Regressor (SVR)"
   ]
  },
  {
   "cell_type": "code",
   "execution_count": 21,
   "metadata": {},
   "outputs": [
    {
     "name": "stdout",
     "output_type": "stream",
     "text": [
      "SVR R-Squared Score - Training Data: 0.477028977496\n",
      "SVR R-Squared Score - Testing Data: 0.463078164174\n"
     ]
    },
    {
     "name": "stderr",
     "output_type": "stream",
     "text": [
      "/home/andridsasmita/anaconda3/envs/tf3/lib/python3.5/site-packages/sklearn/utils/validation.py:526: DataConversionWarning: A column-vector y was passed when a 1d array was expected. Please change the shape of y to (n_samples, ), for example using ravel().\n",
      "  y = column_or_1d(y, warn=True)\n"
     ]
    }
   ],
   "source": [
    "# ML SVM Regressor\n",
    "from sklearn.svm import SVR\n",
    "\n",
    "svr = SVR(kernel='linear')\n",
    "svr.fit(features_train, targets_train)\n",
    "\n",
    "print(\"SVR R-Squared Score - Training Data:\", svr.score(features_train,targets_train))\n",
    "print(\"SVR R-Squared Score - Testing Data:\", svr.score(features_test,targets_test))"
   ]
  },
  {
   "cell_type": "markdown",
   "metadata": {},
   "source": [
    "### Random Forest Ensemble Regressor"
   ]
  },
  {
   "cell_type": "code",
   "execution_count": 22,
   "metadata": {
    "scrolled": true
   },
   "outputs": [
    {
     "name": "stdout",
     "output_type": "stream",
     "text": [
      "Random Forest Regressor R-Squared Score on Training Data: 0.89766134637\n",
      "Random Forest Regressor R-Squared Score on Testing Data: 0.578738892946\n"
     ]
    },
    {
     "name": "stderr",
     "output_type": "stream",
     "text": [
      "/home/andridsasmita/anaconda3/envs/tf3/lib/python3.5/site-packages/ipykernel/__main__.py:5: DataConversionWarning: A column-vector y was passed when a 1d array was expected. Please change the shape of y to (n_samples,), for example using ravel().\n"
     ]
    }
   ],
   "source": [
    "# ML Random Forest Regressor\n",
    "from sklearn.ensemble import RandomForestRegressor\n",
    "\n",
    "rfr = RandomForestRegressor()\n",
    "rfr.fit(features_train, targets_train)\n",
    "\n",
    "print(\"Random Forest Regressor R-Squared Score on Training Data:\", rfr.score(features_train,targets_train))\n",
    "print(\"Random Forest Regressor R-Squared Score on Testing Data:\", rfr.score(features_test,targets_test))"
   ]
  },
  {
   "cell_type": "markdown",
   "metadata": {},
   "source": [
    "## Conclusion"
   ]
  },
  {
   "cell_type": "code",
   "execution_count": null,
   "metadata": {
    "collapsed": true
   },
   "outputs": [],
   "source": []
  },
  {
   "cell_type": "code",
   "execution_count": null,
   "metadata": {
    "collapsed": true
   },
   "outputs": [],
   "source": []
  },
  {
   "cell_type": "code",
   "execution_count": null,
   "metadata": {
    "collapsed": true
   },
   "outputs": [],
   "source": []
  }
 ],
 "metadata": {
  "anaconda-cloud": {},
  "kernelspec": {
   "display_name": "Python 3",
   "language": "python",
   "name": "python3"
  },
  "language_info": {
   "codemirror_mode": {
    "name": "ipython",
    "version": 3
   },
   "file_extension": ".py",
   "mimetype": "text/x-python",
   "name": "python",
   "nbconvert_exporter": "python",
   "pygments_lexer": "ipython3",
   "version": "3.5.3"
  }
 },
 "nbformat": 4,
 "nbformat_minor": 2
}
